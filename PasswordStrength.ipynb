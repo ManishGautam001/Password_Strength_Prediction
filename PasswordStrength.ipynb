{
 "cells": [
  {
   "cell_type": "markdown",
   "metadata": {},
   "source": [
    "## Check Password Strength Using ML algorithms"
   ]
  },
  {
   "cell_type": "code",
   "execution_count": 1,
   "metadata": {},
   "outputs": [],
   "source": [
    "import pandas as pd\n",
    "import numpy as np"
   ]
  },
  {
   "cell_type": "code",
   "execution_count": 2,
   "metadata": {
    "tags": []
   },
   "outputs": [
    {
     "output_type": "stream",
     "name": "stderr",
     "text": "b'Skipping line 2810: expected 2 fields, saw 5\\nSkipping line 4641: expected 2 fields, saw 5\\nSkipping line 7171: expected 2 fields, saw 5\\nSkipping line 11220: expected 2 fields, saw 5\\nSkipping line 13809: expected 2 fields, saw 5\\nSkipping line 14132: expected 2 fields, saw 5\\nSkipping line 14293: expected 2 fields, saw 5\\nSkipping line 14865: expected 2 fields, saw 5\\nSkipping line 17419: expected 2 fields, saw 5\\nSkipping line 22801: expected 2 fields, saw 5\\nSkipping line 25001: expected 2 fields, saw 5\\nSkipping line 26603: expected 2 fields, saw 5\\nSkipping line 26742: expected 2 fields, saw 5\\nSkipping line 29702: expected 2 fields, saw 5\\nSkipping line 32767: expected 2 fields, saw 5\\nSkipping line 32878: expected 2 fields, saw 5\\nSkipping line 35643: expected 2 fields, saw 5\\nSkipping line 36550: expected 2 fields, saw 5\\nSkipping line 38732: expected 2 fields, saw 5\\nSkipping line 40567: expected 2 fields, saw 5\\nSkipping line 40576: expected 2 fields, saw 5\\nSkipping line 41864: expected 2 fields, saw 5\\nSkipping line 46861: expected 2 fields, saw 5\\nSkipping line 47939: expected 2 fields, saw 5\\nSkipping line 48628: expected 2 fields, saw 5\\nSkipping line 48908: expected 2 fields, saw 5\\nSkipping line 57582: expected 2 fields, saw 5\\nSkipping line 58782: expected 2 fields, saw 5\\nSkipping line 58984: expected 2 fields, saw 5\\nSkipping line 61518: expected 2 fields, saw 5\\nSkipping line 63451: expected 2 fields, saw 5\\nSkipping line 68141: expected 2 fields, saw 5\\nSkipping line 72083: expected 2 fields, saw 5\\nSkipping line 74027: expected 2 fields, saw 5\\nSkipping line 77811: expected 2 fields, saw 5\\nSkipping line 83958: expected 2 fields, saw 5\\nSkipping line 85295: expected 2 fields, saw 5\\nSkipping line 88665: expected 2 fields, saw 5\\nSkipping line 89198: expected 2 fields, saw 5\\nSkipping line 92499: expected 2 fields, saw 5\\nSkipping line 92751: expected 2 fields, saw 5\\nSkipping line 93689: expected 2 fields, saw 5\\nSkipping line 94776: expected 2 fields, saw 5\\nSkipping line 97334: expected 2 fields, saw 5\\nSkipping line 102316: expected 2 fields, saw 5\\nSkipping line 103421: expected 2 fields, saw 5\\nSkipping line 106872: expected 2 fields, saw 5\\nSkipping line 109363: expected 2 fields, saw 5\\nSkipping line 110117: expected 2 fields, saw 5\\nSkipping line 110465: expected 2 fields, saw 5\\nSkipping line 113843: expected 2 fields, saw 5\\nSkipping line 115634: expected 2 fields, saw 5\\nSkipping line 121518: expected 2 fields, saw 5\\nSkipping line 123692: expected 2 fields, saw 5\\nSkipping line 124708: expected 2 fields, saw 5\\nSkipping line 129608: expected 2 fields, saw 5\\nSkipping line 133176: expected 2 fields, saw 5\\nSkipping line 135532: expected 2 fields, saw 5\\nSkipping line 138042: expected 2 fields, saw 5\\nSkipping line 139485: expected 2 fields, saw 5\\nSkipping line 140401: expected 2 fields, saw 5\\nSkipping line 144093: expected 2 fields, saw 5\\nSkipping line 149850: expected 2 fields, saw 5\\nSkipping line 151831: expected 2 fields, saw 5\\nSkipping line 158014: expected 2 fields, saw 5\\nSkipping line 162047: expected 2 fields, saw 5\\nSkipping line 164515: expected 2 fields, saw 5\\nSkipping line 170313: expected 2 fields, saw 5\\nSkipping line 171325: expected 2 fields, saw 5\\nSkipping line 171424: expected 2 fields, saw 5\\nSkipping line 175920: expected 2 fields, saw 5\\nSkipping line 176210: expected 2 fields, saw 5\\nSkipping line 183603: expected 2 fields, saw 5\\nSkipping line 190264: expected 2 fields, saw 5\\nSkipping line 191683: expected 2 fields, saw 5\\nSkipping line 191988: expected 2 fields, saw 5\\nSkipping line 195450: expected 2 fields, saw 5\\nSkipping line 195754: expected 2 fields, saw 5\\nSkipping line 197124: expected 2 fields, saw 5\\nSkipping line 199263: expected 2 fields, saw 5\\nSkipping line 202603: expected 2 fields, saw 5\\nSkipping line 209960: expected 2 fields, saw 5\\nSkipping line 213218: expected 2 fields, saw 5\\nSkipping line 217060: expected 2 fields, saw 5\\nSkipping line 220121: expected 2 fields, saw 5\\nSkipping line 223518: expected 2 fields, saw 5\\nSkipping line 226293: expected 2 fields, saw 5\\nSkipping line 227035: expected 2 fields, saw 7\\nSkipping line 227341: expected 2 fields, saw 5\\nSkipping line 227808: expected 2 fields, saw 5\\nSkipping line 228516: expected 2 fields, saw 5\\nSkipping line 228733: expected 2 fields, saw 5\\nSkipping line 232043: expected 2 fields, saw 5\\nSkipping line 232426: expected 2 fields, saw 5\\nSkipping line 234490: expected 2 fields, saw 5\\nSkipping line 239626: expected 2 fields, saw 5\\nSkipping line 240461: expected 2 fields, saw 5\\nSkipping line 244518: expected 2 fields, saw 5\\nSkipping line 245395: expected 2 fields, saw 5\\nSkipping line 246168: expected 2 fields, saw 5\\nSkipping line 246655: expected 2 fields, saw 5\\nSkipping line 246752: expected 2 fields, saw 5\\nSkipping line 247189: expected 2 fields, saw 5\\nSkipping line 250276: expected 2 fields, saw 5\\nSkipping line 255327: expected 2 fields, saw 5\\nSkipping line 257094: expected 2 fields, saw 5\\n'\nb'Skipping line 264626: expected 2 fields, saw 5\\nSkipping line 265028: expected 2 fields, saw 5\\nSkipping line 269150: expected 2 fields, saw 5\\nSkipping line 271360: expected 2 fields, saw 5\\nSkipping line 273975: expected 2 fields, saw 5\\nSkipping line 274742: expected 2 fields, saw 5\\nSkipping line 276227: expected 2 fields, saw 5\\nSkipping line 279807: expected 2 fields, saw 5\\nSkipping line 283425: expected 2 fields, saw 5\\nSkipping line 287468: expected 2 fields, saw 5\\nSkipping line 292995: expected 2 fields, saw 5\\nSkipping line 293496: expected 2 fields, saw 5\\nSkipping line 293735: expected 2 fields, saw 5\\nSkipping line 295060: expected 2 fields, saw 5\\nSkipping line 296643: expected 2 fields, saw 5\\nSkipping line 296848: expected 2 fields, saw 5\\nSkipping line 308926: expected 2 fields, saw 5\\nSkipping line 310360: expected 2 fields, saw 5\\nSkipping line 317004: expected 2 fields, saw 5\\nSkipping line 318207: expected 2 fields, saw 5\\nSkipping line 331783: expected 2 fields, saw 5\\nSkipping line 333864: expected 2 fields, saw 5\\nSkipping line 335958: expected 2 fields, saw 5\\nSkipping line 336290: expected 2 fields, saw 5\\nSkipping line 343526: expected 2 fields, saw 5\\nSkipping line 343857: expected 2 fields, saw 5\\nSkipping line 344059: expected 2 fields, saw 5\\nSkipping line 348691: expected 2 fields, saw 5\\nSkipping line 353446: expected 2 fields, saw 5\\nSkipping line 357073: expected 2 fields, saw 5\\nSkipping line 359753: expected 2 fields, saw 5\\nSkipping line 359974: expected 2 fields, saw 5\\nSkipping line 366534: expected 2 fields, saw 5\\nSkipping line 369514: expected 2 fields, saw 5\\nSkipping line 377759: expected 2 fields, saw 5\\nSkipping line 379327: expected 2 fields, saw 5\\nSkipping line 380769: expected 2 fields, saw 5\\nSkipping line 381073: expected 2 fields, saw 5\\nSkipping line 381489: expected 2 fields, saw 5\\nSkipping line 386304: expected 2 fields, saw 5\\nSkipping line 387635: expected 2 fields, saw 5\\nSkipping line 389613: expected 2 fields, saw 5\\nSkipping line 392604: expected 2 fields, saw 5\\nSkipping line 393184: expected 2 fields, saw 5\\nSkipping line 395530: expected 2 fields, saw 5\\nSkipping line 396939: expected 2 fields, saw 5\\nSkipping line 397385: expected 2 fields, saw 5\\nSkipping line 397509: expected 2 fields, saw 5\\nSkipping line 402902: expected 2 fields, saw 5\\nSkipping line 405187: expected 2 fields, saw 5\\nSkipping line 408412: expected 2 fields, saw 5\\nSkipping line 419423: expected 2 fields, saw 5\\nSkipping line 420962: expected 2 fields, saw 5\\nSkipping line 425965: expected 2 fields, saw 5\\nSkipping line 427496: expected 2 fields, saw 5\\nSkipping line 438881: expected 2 fields, saw 5\\nSkipping line 439776: expected 2 fields, saw 5\\nSkipping line 440345: expected 2 fields, saw 5\\nSkipping line 445507: expected 2 fields, saw 5\\nSkipping line 445548: expected 2 fields, saw 5\\nSkipping line 447184: expected 2 fields, saw 5\\nSkipping line 448603: expected 2 fields, saw 5\\nSkipping line 451732: expected 2 fields, saw 5\\nSkipping line 458249: expected 2 fields, saw 5\\nSkipping line 460274: expected 2 fields, saw 5\\nSkipping line 467630: expected 2 fields, saw 5\\nSkipping line 473961: expected 2 fields, saw 5\\nSkipping line 476281: expected 2 fields, saw 5\\nSkipping line 478010: expected 2 fields, saw 5\\nSkipping line 478322: expected 2 fields, saw 5\\nSkipping line 479999: expected 2 fields, saw 5\\nSkipping line 480898: expected 2 fields, saw 5\\nSkipping line 481688: expected 2 fields, saw 5\\nSkipping line 485193: expected 2 fields, saw 5\\nSkipping line 485519: expected 2 fields, saw 5\\nSkipping line 486000: expected 2 fields, saw 5\\nSkipping line 489063: expected 2 fields, saw 5\\nSkipping line 494525: expected 2 fields, saw 5\\nSkipping line 495009: expected 2 fields, saw 5\\nSkipping line 501954: expected 2 fields, saw 5\\nSkipping line 508035: expected 2 fields, saw 5\\nSkipping line 508828: expected 2 fields, saw 5\\nSkipping line 509833: expected 2 fields, saw 5\\nSkipping line 510410: expected 2 fields, saw 5\\nSkipping line 518229: expected 2 fields, saw 5\\nSkipping line 520302: expected 2 fields, saw 5\\nSkipping line 520340: expected 2 fields, saw 5\\n'\nb'Skipping line 525174: expected 2 fields, saw 5\\nSkipping line 526251: expected 2 fields, saw 5\\nSkipping line 529611: expected 2 fields, saw 5\\nSkipping line 531398: expected 2 fields, saw 5\\nSkipping line 534146: expected 2 fields, saw 5\\nSkipping line 544954: expected 2 fields, saw 5\\nSkipping line 553002: expected 2 fields, saw 5\\nSkipping line 553883: expected 2 fields, saw 5\\nSkipping line 553887: expected 2 fields, saw 5\\nSkipping line 553915: expected 2 fields, saw 5\\nSkipping line 554172: expected 2 fields, saw 5\\nSkipping line 563534: expected 2 fields, saw 5\\nSkipping line 565191: expected 2 fields, saw 5\\nSkipping line 574108: expected 2 fields, saw 5\\nSkipping line 574412: expected 2 fields, saw 5\\nSkipping line 575985: expected 2 fields, saw 5\\nSkipping line 580091: expected 2 fields, saw 5\\nSkipping line 582682: expected 2 fields, saw 5\\nSkipping line 585885: expected 2 fields, saw 5\\nSkipping line 590171: expected 2 fields, saw 5\\nSkipping line 591924: expected 2 fields, saw 5\\nSkipping line 592515: expected 2 fields, saw 5\\nSkipping line 593888: expected 2 fields, saw 5\\nSkipping line 596245: expected 2 fields, saw 5\\nSkipping line 607344: expected 2 fields, saw 5\\nSkipping line 607633: expected 2 fields, saw 5\\nSkipping line 610939: expected 2 fields, saw 5\\nSkipping line 613638: expected 2 fields, saw 5\\nSkipping line 615643: expected 2 fields, saw 5\\nSkipping line 615901: expected 2 fields, saw 5\\nSkipping line 617389: expected 2 fields, saw 5\\nSkipping line 634641: expected 2 fields, saw 5\\nSkipping line 635755: expected 2 fields, saw 5\\nSkipping line 646243: expected 2 fields, saw 5\\nSkipping line 647165: expected 2 fields, saw 5\\nSkipping line 648610: expected 2 fields, saw 5\\nSkipping line 648772: expected 2 fields, saw 5\\nSkipping line 651833: expected 2 fields, saw 5\\nSkipping line 653663: expected 2 fields, saw 5\\nSkipping line 656233: expected 2 fields, saw 5\\nSkipping line 656694: expected 2 fields, saw 5\\nSkipping line 659783: expected 2 fields, saw 5\\nSkipping line 660478: expected 2 fields, saw 5\\nSkipping line 661133: expected 2 fields, saw 5\\nSkipping line 661736: expected 2 fields, saw 5\\nSkipping line 669827: expected 2 fields, saw 5\\n'\n"
    }
   ],
   "source": [
    "data = pd.read_csv('data.csv',',',error_bad_lines=False)"
   ]
  },
  {
   "cell_type": "code",
   "execution_count": 3,
   "metadata": {},
   "outputs": [
    {
     "output_type": "execute_result",
     "data": {
      "text/plain": "      password  strength\n0     kzde5577         1\n1     kino3434         1\n2    visi7k1yr         1\n3     megzy123         1\n4  lamborghin1         1",
      "text/html": "<div>\n<style scoped>\n    .dataframe tbody tr th:only-of-type {\n        vertical-align: middle;\n    }\n\n    .dataframe tbody tr th {\n        vertical-align: top;\n    }\n\n    .dataframe thead th {\n        text-align: right;\n    }\n</style>\n<table border=\"1\" class=\"dataframe\">\n  <thead>\n    <tr style=\"text-align: right;\">\n      <th></th>\n      <th>password</th>\n      <th>strength</th>\n    </tr>\n  </thead>\n  <tbody>\n    <tr>\n      <th>0</th>\n      <td>kzde5577</td>\n      <td>1</td>\n    </tr>\n    <tr>\n      <th>1</th>\n      <td>kino3434</td>\n      <td>1</td>\n    </tr>\n    <tr>\n      <th>2</th>\n      <td>visi7k1yr</td>\n      <td>1</td>\n    </tr>\n    <tr>\n      <th>3</th>\n      <td>megzy123</td>\n      <td>1</td>\n    </tr>\n    <tr>\n      <th>4</th>\n      <td>lamborghin1</td>\n      <td>1</td>\n    </tr>\n  </tbody>\n</table>\n</div>"
     },
     "metadata": {},
     "execution_count": 3
    }
   ],
   "source": [
    "data.head()"
   ]
  },
  {
   "cell_type": "code",
   "execution_count": 4,
   "metadata": {},
   "outputs": [
    {
     "output_type": "execute_result",
     "data": {
      "text/plain": "       password  strength\n367579      NaN         0",
      "text/html": "<div>\n<style scoped>\n    .dataframe tbody tr th:only-of-type {\n        vertical-align: middle;\n    }\n\n    .dataframe tbody tr th {\n        vertical-align: top;\n    }\n\n    .dataframe thead th {\n        text-align: right;\n    }\n</style>\n<table border=\"1\" class=\"dataframe\">\n  <thead>\n    <tr style=\"text-align: right;\">\n      <th></th>\n      <th>password</th>\n      <th>strength</th>\n    </tr>\n  </thead>\n  <tbody>\n    <tr>\n      <th>367579</th>\n      <td>NaN</td>\n      <td>0</td>\n    </tr>\n  </tbody>\n</table>\n</div>"
     },
     "metadata": {},
     "execution_count": 4
    }
   ],
   "source": [
    "data[data['password'].isnull()]"
   ]
  },
  {
   "cell_type": "code",
   "execution_count": 5,
   "metadata": {},
   "outputs": [],
   "source": [
    "data.dropna(inplace=True)"
   ]
  },
  {
   "cell_type": "code",
   "execution_count": 6,
   "metadata": {},
   "outputs": [],
   "source": [
    "passwords_tuple=np.array(data)"
   ]
  },
  {
   "cell_type": "code",
   "execution_count": 7,
   "metadata": {},
   "outputs": [
    {
     "output_type": "execute_result",
     "data": {
      "text/plain": "array([['kzde5577', 1],\n       ['kino3434', 1],\n       ['visi7k1yr', 1],\n       ...,\n       ['184520socram', 1],\n       ['marken22a', 1],\n       ['fxx4pw4g', 1]], dtype=object)"
     },
     "metadata": {},
     "execution_count": 7
    }
   ],
   "source": [
    "passwords_tuple"
   ]
  },
  {
   "cell_type": "code",
   "execution_count": 8,
   "metadata": {},
   "outputs": [],
   "source": [
    "import random\n",
    "random.shuffle(passwords_tuple) #shuffling randomly for robustness\n"
   ]
  },
  {
   "cell_type": "code",
   "execution_count": 9,
   "metadata": {},
   "outputs": [],
   "source": [
    "y=[labels[1] for labels in passwords_tuple]"
   ]
  },
  {
   "cell_type": "code",
   "execution_count": 10,
   "metadata": {},
   "outputs": [
    {
     "output_type": "execute_result",
     "data": {
      "text/plain": "[1,\n 1,\n 1,\n 1,\n 1,\n 1,\n 1,\n 1,\n 1,\n 1,\n 1,\n 1,\n 1,\n 1,\n 1,\n 2,\n 1,\n 1,\n 1,\n 1,\n 1,\n 1,\n 1,\n 2,\n 2,\n 1,\n 1,\n 2,\n 1,\n 2,\n 1,\n 1,\n 1,\n 1,\n 2,\n 1,\n 1,\n 1,\n 1,\n 1,\n 1,\n 1,\n 1,\n 1,\n 1,\n 1,\n 1,\n 1,\n 1,\n 1,\n 0,\n 1,\n 1,\n 1,\n 1,\n 1,\n 1,\n 1,\n 1,\n 2,\n 1,\n 0,\n 1,\n 1,\n 0,\n 2,\n 1,\n 2,\n 1,\n 1,\n 1,\n 1,\n 1,\n 1,\n 1,\n 1,\n 1,\n 2,\n 1,\n 1,\n 0,\n 1,\n 1,\n 1,\n 1,\n 1,\n 1,\n 1,\n 1,\n 2,\n 1,\n 1,\n 2,\n 0,\n 1,\n 2,\n 1,\n 2,\n 1,\n 1,\n 1,\n 1,\n 1,\n 1,\n 1,\n 1,\n 0,\n 1,\n 1,\n 0,\n 1,\n 1,\n 2,\n 2,\n 1,\n 1,\n 0,\n 1,\n 0,\n 1,\n 2,\n 1,\n 1,\n 2,\n 1,\n 1,\n 1,\n 1,\n 1,\n 1,\n 1,\n 2,\n 1,\n 1,\n 1,\n 2,\n 1,\n 1,\n 1,\n 1,\n 1,\n 1,\n 1,\n 1,\n 0,\n 1,\n 1,\n 0,\n 1,\n 1,\n 1,\n 1,\n 1,\n 1,\n 1,\n 1,\n 2,\n 1,\n 1,\n 0,\n 1,\n 1,\n 1,\n 0,\n 1,\n 1,\n 1,\n 1,\n 1,\n 1,\n 1,\n 1,\n 1,\n 1,\n 1,\n 2,\n 1,\n 0,\n 2,\n 1,\n 2,\n 1,\n 1,\n 2,\n 1,\n 2,\n 1,\n 1,\n 1,\n 2,\n 1,\n 1,\n 1,\n 1,\n 1,\n 0,\n 1,\n 1,\n 1,\n 0,\n 1,\n 1,\n 1,\n 1,\n 0,\n 1,\n 0,\n 1,\n 1,\n 1,\n 1,\n 1,\n 0,\n 1,\n 1,\n 1,\n 1,\n 0,\n 1,\n 1,\n 2,\n 1,\n 1,\n 1,\n 1,\n 0,\n 2,\n 1,\n 1,\n 1,\n 1,\n 1,\n 1,\n 1,\n 0,\n 2,\n 1,\n 2,\n 1,\n 1,\n 0,\n 1,\n 1,\n 1,\n 1,\n 2,\n 2,\n 1,\n 1,\n 1,\n 1,\n 1,\n 1,\n 1,\n 1,\n 1,\n 1,\n 1,\n 0,\n 1,\n 2,\n 1,\n 2,\n 1,\n 0,\n 1,\n 0,\n 2,\n 2,\n 1,\n 1,\n 2,\n 1,\n 0,\n 1,\n 1,\n 2,\n 1,\n 1,\n 1,\n 1,\n 0,\n 1,\n 1,\n 1,\n 1,\n 1,\n 1,\n 0,\n 1,\n 1,\n 1,\n 1,\n 1,\n 1,\n 2,\n 1,\n 2,\n 1,\n 1,\n 1,\n 1,\n 0,\n 0,\n 2,\n 1,\n 1,\n 1,\n 1,\n 1,\n 0,\n 1,\n 0,\n 1,\n 1,\n 2,\n 1,\n 1,\n 1,\n 1,\n 1,\n 1,\n 1,\n 1,\n 1,\n 1,\n 1,\n 1,\n 1,\n 2,\n 2,\n 1,\n 1,\n 1,\n 1,\n 2,\n 1,\n 1,\n 1,\n 2,\n 1,\n 1,\n 1,\n 1,\n 1,\n 0,\n 0,\n 1,\n 1,\n 1,\n 0,\n 2,\n 1,\n 1,\n 0,\n 1,\n 2,\n 1,\n 2,\n 1,\n 1,\n 1,\n 0,\n 0,\n 0,\n 0,\n 1,\n 1,\n 1,\n 0,\n 1,\n 2,\n 0,\n 1,\n 1,\n 1,\n 1,\n 1,\n 1,\n 1,\n 1,\n 1,\n 1,\n 1,\n 1,\n 1,\n 1,\n 1,\n 2,\n 0,\n 1,\n 1,\n 1,\n 1,\n 2,\n 1,\n 1,\n 2,\n 2,\n 0,\n 1,\n 1,\n 0,\n 1,\n 1,\n 2,\n 1,\n 1,\n 0,\n 1,\n 1,\n 0,\n 2,\n 1,\n 1,\n 1,\n 1,\n 1,\n 1,\n 1,\n 0,\n 1,\n 0,\n 1,\n 0,\n 2,\n 1,\n 1,\n 1,\n 2,\n 1,\n 1,\n 1,\n 2,\n 1,\n 2,\n 1,\n 1,\n 1,\n 1,\n 1,\n 1,\n 1,\n 0,\n 1,\n 0,\n 1,\n 1,\n 1,\n 1,\n 1,\n 1,\n 2,\n 1,\n 1,\n 0,\n 2,\n 0,\n 1,\n 1,\n 1,\n 0,\n 1,\n 1,\n 0,\n 1,\n 1,\n 1,\n 1,\n 1,\n 0,\n 2,\n 1,\n 1,\n 1,\n 1,\n 1,\n 1,\n 0,\n 1,\n 1,\n 1,\n 1,\n 2,\n 2,\n 2,\n 1,\n 1,\n 2,\n 0,\n 1,\n 1,\n 1,\n 1,\n 1,\n 1,\n 1,\n 1,\n 1,\n 1,\n 1,\n 1,\n 2,\n 1,\n 1,\n 1,\n 1,\n 2,\n 0,\n 2,\n 1,\n 1,\n 1,\n 0,\n 1,\n 1,\n 1,\n 0,\n 1,\n 1,\n 1,\n 1,\n 1,\n 1,\n 1,\n 1,\n 1,\n 1,\n 1,\n 1,\n 0,\n 2,\n 1,\n 1,\n 1,\n 2,\n 1,\n 2,\n 0,\n 1,\n 1,\n 1,\n 2,\n 1,\n 1,\n 1,\n 1,\n 1,\n 1,\n 0,\n 1,\n 1,\n 1,\n 1,\n 1,\n 0,\n 0,\n 1,\n 1,\n 1,\n 1,\n 1,\n 1,\n 0,\n 1,\n 1,\n 1,\n 1,\n 2,\n 0,\n 1,\n 2,\n 1,\n 1,\n 1,\n 1,\n 1,\n 1,\n 1,\n 1,\n 2,\n 1,\n 1,\n 1,\n 1,\n 1,\n 1,\n 2,\n 1,\n 1,\n 2,\n 1,\n 0,\n 1,\n 1,\n 1,\n 1,\n 2,\n 1,\n 1,\n 1,\n 1,\n 1,\n 0,\n 1,\n 1,\n 1,\n 2,\n 0,\n 1,\n 1,\n 1,\n 1,\n 1,\n 1,\n 1,\n 0,\n 2,\n 1,\n 1,\n 1,\n 1,\n 2,\n 2,\n 1,\n 0,\n 0,\n 1,\n 0,\n 1,\n 1,\n 1,\n 1,\n 1,\n 1,\n 1,\n 2,\n 1,\n 1,\n 1,\n 2,\n 0,\n 1,\n 2,\n 1,\n 1,\n 2,\n 0,\n 1,\n 1,\n 0,\n 1,\n 2,\n 1,\n 1,\n 1,\n 0,\n 2,\n 1,\n 1,\n 1,\n 1,\n 1,\n 1,\n 1,\n 0,\n 1,\n 1,\n 1,\n 1,\n 1,\n 1,\n 1,\n 1,\n 2,\n 2,\n 1,\n 1,\n 1,\n 2,\n 1,\n 1,\n 1,\n 0,\n 1,\n 1,\n 1,\n 1,\n 1,\n 1,\n 0,\n 1,\n 1,\n 1,\n 1,\n 1,\n 1,\n 1,\n 1,\n 0,\n 0,\n 2,\n 1,\n 1,\n 1,\n 2,\n 0,\n 1,\n 1,\n 1,\n 1,\n 1,\n 1,\n 2,\n 1,\n 1,\n 2,\n 1,\n 1,\n 1,\n 1,\n 1,\n 0,\n 0,\n 1,\n 1,\n 1,\n 1,\n 1,\n 1,\n 0,\n 0,\n 1,\n 1,\n 1,\n 1,\n 1,\n 1,\n 1,\n 1,\n 1,\n 0,\n 1,\n 1,\n 1,\n 1,\n 1,\n 0,\n 1,\n 0,\n 1,\n 1,\n 1,\n 1,\n 1,\n 2,\n 1,\n 1,\n 1,\n 1,\n 1,\n 2,\n 1,\n 1,\n 2,\n 1,\n 1,\n 1,\n 1,\n 1,\n 1,\n 1,\n 1,\n 1,\n 0,\n 1,\n 1,\n 1,\n 1,\n 0,\n 1,\n 1,\n 1,\n 1,\n 2,\n 0,\n 1,\n 2,\n 1,\n 1,\n 1,\n 1,\n 1,\n 1,\n 2,\n 0,\n 2,\n 2,\n 1,\n 1,\n 1,\n 1,\n 1,\n 1,\n 1,\n 1,\n 1,\n 0,\n 1,\n 1,\n 1,\n 1,\n 2,\n 0,\n 0,\n 1,\n 0,\n 2,\n 1,\n 1,\n 2,\n 1,\n 0,\n 1,\n 0,\n 1,\n 0,\n 0,\n 1,\n 1,\n 0,\n 1,\n 1,\n 1,\n 1,\n 2,\n 1,\n 0,\n 1,\n 1,\n 2,\n 1,\n 1,\n 1,\n 0,\n 1,\n 1,\n 1,\n 1,\n 0,\n 0,\n 1,\n 1,\n 1,\n 1,\n 0,\n 2,\n 1,\n 1,\n 0,\n 1,\n 1,\n 1,\n 1,\n 1,\n 1,\n 0,\n 1,\n 1,\n 1,\n 1,\n 1,\n 1,\n 1,\n 1,\n 2,\n 2,\n 1,\n 1,\n 0,\n 1,\n 1,\n 1,\n 1,\n 1,\n 1,\n 0,\n 1,\n 1,\n 2,\n 0,\n 1,\n 2,\n 0,\n 2,\n 1,\n 0,\n 1,\n 1,\n 1,\n 2,\n 2,\n 1,\n 1,\n 1,\n 1,\n 1,\n 1,\n 1,\n 1,\n 1,\n 2,\n 0,\n 1,\n 1,\n 0,\n 1,\n 1,\n 1,\n 0,\n 1,\n 2,\n 1,\n 2,\n 2,\n 0,\n 1,\n 1,\n 1,\n 1,\n 0,\n 1,\n 1,\n 0,\n 1,\n 1,\n 0,\n 2,\n 1,\n 1,\n 1,\n 1,\n 2,\n 1,\n 1,\n 1,\n 1,\n 1,\n 1,\n 1,\n 1,\n 2,\n 2,\n 1,\n 1,\n 1,\n 1,\n 1,\n 1,\n 2,\n 2,\n 1,\n 0,\n 1,\n 1,\n 1,\n 1,\n 1,\n 0,\n 1,\n 1,\n 1,\n 1,\n 1,\n 0,\n 1,\n 0,\n 1,\n 1,\n 0,\n 1,\n 1,\n 1,\n 0,\n 0,\n 1,\n 1,\n 2,\n 1,\n 1,\n 2,\n 1,\n 0,\n 1,\n 1,\n 1,\n 1,\n 0,\n 1,\n 1,\n ...]"
     },
     "metadata": {},
     "execution_count": 10
    }
   ],
   "source": [
    "y"
   ]
  },
  {
   "cell_type": "code",
   "execution_count": 11,
   "metadata": {},
   "outputs": [],
   "source": [
    "X=[labels[0] for labels in passwords_tuple]"
   ]
  },
  {
   "cell_type": "code",
   "execution_count": 12,
   "metadata": {},
   "outputs": [],
   "source": [
    "import seaborn as sns"
   ]
  },
  {
   "cell_type": "code",
   "execution_count": 13,
   "metadata": {},
   "outputs": [
    {
     "output_type": "execute_result",
     "data": {
      "text/plain": "<AxesSubplot:xlabel='strength', ylabel='count'>"
     },
     "metadata": {},
     "execution_count": 13
    },
    {
     "output_type": "display_data",
     "data": {
      "text/plain": "<Figure size 432x288 with 1 Axes>",
      "image/svg+xml": "<?xml version=\"1.0\" encoding=\"utf-8\" standalone=\"no\"?>\r\n<!DOCTYPE svg PUBLIC \"-//W3C//DTD SVG 1.1//EN\"\r\n  \"http://www.w3.org/Graphics/SVG/1.1/DTD/svg11.dtd\">\r\n<!-- Created with matplotlib (https://matplotlib.org/) -->\r\n<svg height=\"261.247813pt\" version=\"1.1\" viewBox=\"0 0 402.710937 261.247813\" width=\"402.710937pt\" xmlns=\"http://www.w3.org/2000/svg\" xmlns:xlink=\"http://www.w3.org/1999/xlink\">\r\n <metadata>\r\n  <rdf:RDF xmlns:cc=\"http://creativecommons.org/ns#\" xmlns:dc=\"http://purl.org/dc/elements/1.1/\" xmlns:rdf=\"http://www.w3.org/1999/02/22-rdf-syntax-ns#\">\r\n   <cc:Work>\r\n    <dc:type rdf:resource=\"http://purl.org/dc/dcmitype/StillImage\"/>\r\n    <dc:date>2020-08-17T19:27:02.034186</dc:date>\r\n    <dc:format>image/svg+xml</dc:format>\r\n    <dc:creator>\r\n     <cc:Agent>\r\n      <dc:title>Matplotlib v3.3.1, https://matplotlib.org/</dc:title>\r\n     </cc:Agent>\r\n    </dc:creator>\r\n   </cc:Work>\r\n  </rdf:RDF>\r\n </metadata>\r\n <defs>\r\n  <style type=\"text/css\">*{stroke-linecap:butt;stroke-linejoin:round;}</style>\r\n </defs>\r\n <g id=\"figure_1\">\r\n  <g id=\"patch_1\">\r\n   <path d=\"M 0 261.247813 \r\nL 402.710937 261.247813 \r\nL 402.710937 0 \r\nL 0 0 \r\nz\r\n\" style=\"fill:#ffffff;\"/>\r\n  </g>\r\n  <g id=\"axes_1\">\r\n   <g id=\"patch_2\">\r\n    <path d=\"M 60.710938 224.64 \r\nL 395.510938 224.64 \r\nL 395.510938 7.2 \r\nL 60.710938 7.2 \r\nz\r\n\" style=\"fill:#ffffff;\"/>\r\n   </g>\r\n   <g id=\"matplotlib.axis_1\">\r\n    <g id=\"xtick_1\">\r\n     <g id=\"text_1\">\r\n      <!-- 0 -->\r\n      <g style=\"fill:#262626;\" transform=\"translate(113.730469 238.797812)scale(0.1 -0.1)\">\r\n       <defs>\r\n        <path d=\"M 4.15625 35.296875 \r\nQ 4.15625 48 6.765625 55.734375 \r\nQ 9.375 63.484375 14.515625 67.671875 \r\nQ 19.671875 71.875 27.484375 71.875 \r\nQ 33.25 71.875 37.59375 69.546875 \r\nQ 41.9375 67.234375 44.765625 62.859375 \r\nQ 47.609375 58.5 49.21875 52.21875 \r\nQ 50.828125 45.953125 50.828125 35.296875 \r\nQ 50.828125 22.703125 48.234375 14.96875 \r\nQ 45.65625 7.234375 40.5 3 \r\nQ 35.359375 -1.21875 27.484375 -1.21875 \r\nQ 17.140625 -1.21875 11.234375 6.203125 \r\nQ 4.15625 15.140625 4.15625 35.296875 \r\nz\r\nM 13.1875 35.296875 \r\nQ 13.1875 17.671875 17.3125 11.828125 \r\nQ 21.4375 6 27.484375 6 \r\nQ 33.546875 6 37.671875 11.859375 \r\nQ 41.796875 17.71875 41.796875 35.296875 \r\nQ 41.796875 52.984375 37.671875 58.78125 \r\nQ 33.546875 64.59375 27.390625 64.59375 \r\nQ 21.34375 64.59375 17.71875 59.46875 \r\nQ 13.1875 52.9375 13.1875 35.296875 \r\nz\r\n\" id=\"ArialMT-48\"/>\r\n       </defs>\r\n       <use xlink:href=\"#ArialMT-48\"/>\r\n      </g>\r\n     </g>\r\n    </g>\r\n    <g id=\"xtick_2\">\r\n     <g id=\"text_2\">\r\n      <!-- 1 -->\r\n      <g style=\"fill:#262626;\" transform=\"translate(225.330469 238.797812)scale(0.1 -0.1)\">\r\n       <defs>\r\n        <path d=\"M 37.25 0 \r\nL 28.46875 0 \r\nL 28.46875 56 \r\nQ 25.296875 52.984375 20.140625 49.953125 \r\nQ 14.984375 46.921875 10.890625 45.40625 \r\nL 10.890625 53.90625 \r\nQ 18.265625 57.375 23.78125 62.296875 \r\nQ 29.296875 67.234375 31.59375 71.875 \r\nL 37.25 71.875 \r\nz\r\n\" id=\"ArialMT-49\"/>\r\n       </defs>\r\n       <use xlink:href=\"#ArialMT-49\"/>\r\n      </g>\r\n     </g>\r\n    </g>\r\n    <g id=\"xtick_3\">\r\n     <g id=\"text_3\">\r\n      <!-- 2 -->\r\n      <g style=\"fill:#262626;\" transform=\"translate(336.930469 238.797812)scale(0.1 -0.1)\">\r\n       <defs>\r\n        <path d=\"M 50.34375 8.453125 \r\nL 50.34375 0 \r\nL 3.03125 0 \r\nQ 2.9375 3.171875 4.046875 6.109375 \r\nQ 5.859375 10.9375 9.828125 15.625 \r\nQ 13.8125 20.3125 21.34375 26.46875 \r\nQ 33.015625 36.03125 37.109375 41.625 \r\nQ 41.21875 47.21875 41.21875 52.203125 \r\nQ 41.21875 57.421875 37.46875 61 \r\nQ 33.734375 64.59375 27.734375 64.59375 \r\nQ 21.390625 64.59375 17.578125 60.78125 \r\nQ 13.765625 56.984375 13.71875 50.25 \r\nL 4.6875 51.171875 \r\nQ 5.609375 61.28125 11.65625 66.578125 \r\nQ 17.71875 71.875 27.9375 71.875 \r\nQ 38.234375 71.875 44.234375 66.15625 \r\nQ 50.25 60.453125 50.25 52 \r\nQ 50.25 47.703125 48.484375 43.546875 \r\nQ 46.734375 39.40625 42.65625 34.8125 \r\nQ 38.578125 30.21875 29.109375 22.21875 \r\nQ 21.1875 15.578125 18.9375 13.203125 \r\nQ 16.703125 10.84375 15.234375 8.453125 \r\nz\r\n\" id=\"ArialMT-50\"/>\r\n       </defs>\r\n       <use xlink:href=\"#ArialMT-50\"/>\r\n      </g>\r\n     </g>\r\n    </g>\r\n    <g id=\"text_4\">\r\n     <!-- strength -->\r\n     <g style=\"fill:#262626;\" transform=\"translate(210.046094 251.943125)scale(0.1 -0.1)\">\r\n      <defs>\r\n       <path d=\"M 3.078125 15.484375 \r\nL 11.765625 16.84375 \r\nQ 12.5 11.625 15.84375 8.84375 \r\nQ 19.1875 6.0625 25.203125 6.0625 \r\nQ 31.25 6.0625 34.171875 8.515625 \r\nQ 37.109375 10.984375 37.109375 14.3125 \r\nQ 37.109375 17.28125 34.515625 19 \r\nQ 32.71875 20.171875 25.53125 21.96875 \r\nQ 15.875 24.421875 12.140625 26.203125 \r\nQ 8.40625 27.984375 6.46875 31.125 \r\nQ 4.546875 34.28125 4.546875 38.09375 \r\nQ 4.546875 41.546875 6.125 44.5 \r\nQ 7.71875 47.46875 10.453125 49.421875 \r\nQ 12.5 50.921875 16.03125 51.96875 \r\nQ 19.578125 53.03125 23.640625 53.03125 \r\nQ 29.734375 53.03125 34.34375 51.265625 \r\nQ 38.96875 49.515625 41.15625 46.5 \r\nQ 43.359375 43.5 44.1875 38.484375 \r\nL 35.59375 37.3125 \r\nQ 35.015625 41.3125 32.203125 43.546875 \r\nQ 29.390625 45.796875 24.265625 45.796875 \r\nQ 18.21875 45.796875 15.625 43.796875 \r\nQ 13.03125 41.796875 13.03125 39.109375 \r\nQ 13.03125 37.40625 14.109375 36.03125 \r\nQ 15.1875 34.625 17.484375 33.6875 \r\nQ 18.796875 33.203125 25.25 31.453125 \r\nQ 34.578125 28.953125 38.25 27.359375 \r\nQ 41.9375 25.78125 44.03125 22.75 \r\nQ 46.140625 19.734375 46.140625 15.234375 \r\nQ 46.140625 10.84375 43.578125 6.953125 \r\nQ 41.015625 3.078125 36.171875 0.953125 \r\nQ 31.34375 -1.171875 25.25 -1.171875 \r\nQ 15.140625 -1.171875 9.84375 3.03125 \r\nQ 4.546875 7.234375 3.078125 15.484375 \r\nz\r\n\" id=\"ArialMT-115\"/>\r\n       <path d=\"M 25.78125 7.859375 \r\nL 27.046875 0.09375 \r\nQ 23.34375 -0.6875 20.40625 -0.6875 \r\nQ 15.625 -0.6875 12.984375 0.828125 \r\nQ 10.359375 2.34375 9.28125 4.8125 \r\nQ 8.203125 7.28125 8.203125 15.1875 \r\nL 8.203125 45.015625 \r\nL 1.765625 45.015625 \r\nL 1.765625 51.859375 \r\nL 8.203125 51.859375 \r\nL 8.203125 64.703125 \r\nL 16.9375 69.96875 \r\nL 16.9375 51.859375 \r\nL 25.78125 51.859375 \r\nL 25.78125 45.015625 \r\nL 16.9375 45.015625 \r\nL 16.9375 14.703125 \r\nQ 16.9375 10.9375 17.40625 9.859375 \r\nQ 17.875 8.796875 18.921875 8.15625 \r\nQ 19.96875 7.515625 21.921875 7.515625 \r\nQ 23.390625 7.515625 25.78125 7.859375 \r\nz\r\n\" id=\"ArialMT-116\"/>\r\n       <path d=\"M 6.5 0 \r\nL 6.5 51.859375 \r\nL 14.40625 51.859375 \r\nL 14.40625 44 \r\nQ 17.4375 49.515625 20 51.265625 \r\nQ 22.5625 53.03125 25.640625 53.03125 \r\nQ 30.078125 53.03125 34.671875 50.203125 \r\nL 31.640625 42.046875 \r\nQ 28.421875 43.953125 25.203125 43.953125 \r\nQ 22.3125 43.953125 20.015625 42.21875 \r\nQ 17.71875 40.484375 16.75 37.40625 \r\nQ 15.28125 32.71875 15.28125 27.15625 \r\nL 15.28125 0 \r\nz\r\n\" id=\"ArialMT-114\"/>\r\n       <path d=\"M 42.09375 16.703125 \r\nL 51.171875 15.578125 \r\nQ 49.03125 7.625 43.21875 3.21875 \r\nQ 37.40625 -1.171875 28.375 -1.171875 \r\nQ 17 -1.171875 10.328125 5.828125 \r\nQ 3.65625 12.84375 3.65625 25.484375 \r\nQ 3.65625 38.578125 10.390625 45.796875 \r\nQ 17.140625 53.03125 27.875 53.03125 \r\nQ 38.28125 53.03125 44.875 45.953125 \r\nQ 51.46875 38.875 51.46875 26.03125 \r\nQ 51.46875 25.25 51.421875 23.6875 \r\nL 12.75 23.6875 \r\nQ 13.234375 15.140625 17.578125 10.59375 \r\nQ 21.921875 6.0625 28.421875 6.0625 \r\nQ 33.25 6.0625 36.671875 8.59375 \r\nQ 40.09375 11.140625 42.09375 16.703125 \r\nz\r\nM 13.234375 30.90625 \r\nL 42.1875 30.90625 \r\nQ 41.609375 37.453125 38.875 40.71875 \r\nQ 34.671875 45.796875 27.984375 45.796875 \r\nQ 21.921875 45.796875 17.796875 41.75 \r\nQ 13.671875 37.703125 13.234375 30.90625 \r\nz\r\n\" id=\"ArialMT-101\"/>\r\n       <path d=\"M 6.59375 0 \r\nL 6.59375 51.859375 \r\nL 14.5 51.859375 \r\nL 14.5 44.484375 \r\nQ 20.21875 53.03125 31 53.03125 \r\nQ 35.6875 53.03125 39.625 51.34375 \r\nQ 43.5625 49.65625 45.515625 46.921875 \r\nQ 47.46875 44.1875 48.25 40.4375 \r\nQ 48.734375 37.984375 48.734375 31.890625 \r\nL 48.734375 0 \r\nL 39.9375 0 \r\nL 39.9375 31.546875 \r\nQ 39.9375 36.921875 38.90625 39.578125 \r\nQ 37.890625 42.234375 35.28125 43.8125 \r\nQ 32.671875 45.40625 29.15625 45.40625 \r\nQ 23.53125 45.40625 19.453125 41.84375 \r\nQ 15.375 38.28125 15.375 28.328125 \r\nL 15.375 0 \r\nz\r\n\" id=\"ArialMT-110\"/>\r\n       <path d=\"M 4.984375 -4.296875 \r\nL 13.53125 -5.5625 \r\nQ 14.0625 -9.515625 16.5 -11.328125 \r\nQ 19.78125 -13.765625 25.4375 -13.765625 \r\nQ 31.546875 -13.765625 34.859375 -11.328125 \r\nQ 38.1875 -8.890625 39.359375 -4.5 \r\nQ 40.046875 -1.8125 39.984375 6.78125 \r\nQ 34.234375 0 25.640625 0 \r\nQ 14.9375 0 9.078125 7.71875 \r\nQ 3.21875 15.4375 3.21875 26.21875 \r\nQ 3.21875 33.640625 5.90625 39.90625 \r\nQ 8.59375 46.1875 13.6875 49.609375 \r\nQ 18.796875 53.03125 25.6875 53.03125 \r\nQ 34.859375 53.03125 40.828125 45.609375 \r\nL 40.828125 51.859375 \r\nL 48.921875 51.859375 \r\nL 48.921875 7.03125 \r\nQ 48.921875 -5.078125 46.453125 -10.125 \r\nQ 44 -15.1875 38.640625 -18.109375 \r\nQ 33.296875 -21.046875 25.484375 -21.046875 \r\nQ 16.21875 -21.046875 10.5 -16.875 \r\nQ 4.78125 -12.703125 4.984375 -4.296875 \r\nz\r\nM 12.25 26.859375 \r\nQ 12.25 16.65625 16.296875 11.96875 \r\nQ 20.359375 7.28125 26.46875 7.28125 \r\nQ 32.515625 7.28125 36.609375 11.9375 \r\nQ 40.71875 16.609375 40.71875 26.5625 \r\nQ 40.71875 36.078125 36.5 40.90625 \r\nQ 32.28125 45.75 26.3125 45.75 \r\nQ 20.453125 45.75 16.34375 40.984375 \r\nQ 12.25 36.234375 12.25 26.859375 \r\nz\r\n\" id=\"ArialMT-103\"/>\r\n       <path d=\"M 6.59375 0 \r\nL 6.59375 71.578125 \r\nL 15.375 71.578125 \r\nL 15.375 45.90625 \r\nQ 21.53125 53.03125 30.90625 53.03125 \r\nQ 36.671875 53.03125 40.921875 50.75 \r\nQ 45.171875 48.484375 47 44.484375 \r\nQ 48.828125 40.484375 48.828125 32.859375 \r\nL 48.828125 0 \r\nL 40.046875 0 \r\nL 40.046875 32.859375 \r\nQ 40.046875 39.453125 37.1875 42.453125 \r\nQ 34.328125 45.453125 29.109375 45.453125 \r\nQ 25.203125 45.453125 21.75 43.421875 \r\nQ 18.3125 41.40625 16.84375 37.9375 \r\nQ 15.375 34.46875 15.375 28.375 \r\nL 15.375 0 \r\nz\r\n\" id=\"ArialMT-104\"/>\r\n      </defs>\r\n      <use xlink:href=\"#ArialMT-115\"/>\r\n      <use x=\"50\" xlink:href=\"#ArialMT-116\"/>\r\n      <use x=\"77.783203\" xlink:href=\"#ArialMT-114\"/>\r\n      <use x=\"111.083984\" xlink:href=\"#ArialMT-101\"/>\r\n      <use x=\"166.699219\" xlink:href=\"#ArialMT-110\"/>\r\n      <use x=\"222.314453\" xlink:href=\"#ArialMT-103\"/>\r\n      <use x=\"277.929688\" xlink:href=\"#ArialMT-116\"/>\r\n      <use x=\"305.712891\" xlink:href=\"#ArialMT-104\"/>\r\n     </g>\r\n    </g>\r\n   </g>\r\n   <g id=\"matplotlib.axis_2\">\r\n    <g id=\"ytick_1\">\r\n     <g id=\"line2d_1\">\r\n      <path clip-path=\"url(#pceb012a095)\" d=\"M 60.710938 224.64 \r\nL 395.510938 224.64 \r\n\" style=\"fill:none;stroke:#cccccc;stroke-linecap:round;stroke-width:0.8;\"/>\r\n     </g>\r\n     <g id=\"text_5\">\r\n      <!-- 0 -->\r\n      <g style=\"fill:#262626;\" transform=\"translate(48.15 228.218906)scale(0.1 -0.1)\">\r\n       <use xlink:href=\"#ArialMT-48\"/>\r\n      </g>\r\n     </g>\r\n    </g>\r\n    <g id=\"ytick_2\">\r\n     <g id=\"line2d_2\">\r\n      <path clip-path=\"url(#pceb012a095)\" d=\"M 60.710938 182.956164 \r\nL 395.510938 182.956164 \r\n\" style=\"fill:none;stroke:#cccccc;stroke-linecap:round;stroke-width:0.8;\"/>\r\n     </g>\r\n     <g id=\"text_6\">\r\n      <!-- 100000 -->\r\n      <g style=\"fill:#262626;\" transform=\"translate(20.345312 186.53507)scale(0.1 -0.1)\">\r\n       <use xlink:href=\"#ArialMT-49\"/>\r\n       <use x=\"55.615234\" xlink:href=\"#ArialMT-48\"/>\r\n       <use x=\"111.230469\" xlink:href=\"#ArialMT-48\"/>\r\n       <use x=\"166.845703\" xlink:href=\"#ArialMT-48\"/>\r\n       <use x=\"222.460938\" xlink:href=\"#ArialMT-48\"/>\r\n       <use x=\"278.076172\" xlink:href=\"#ArialMT-48\"/>\r\n      </g>\r\n     </g>\r\n    </g>\r\n    <g id=\"ytick_3\">\r\n     <g id=\"line2d_3\">\r\n      <path clip-path=\"url(#pceb012a095)\" d=\"M 60.710938 141.272328 \r\nL 395.510938 141.272328 \r\n\" style=\"fill:none;stroke:#cccccc;stroke-linecap:round;stroke-width:0.8;\"/>\r\n     </g>\r\n     <g id=\"text_7\">\r\n      <!-- 200000 -->\r\n      <g style=\"fill:#262626;\" transform=\"translate(20.345312 144.851234)scale(0.1 -0.1)\">\r\n       <use xlink:href=\"#ArialMT-50\"/>\r\n       <use x=\"55.615234\" xlink:href=\"#ArialMT-48\"/>\r\n       <use x=\"111.230469\" xlink:href=\"#ArialMT-48\"/>\r\n       <use x=\"166.845703\" xlink:href=\"#ArialMT-48\"/>\r\n       <use x=\"222.460938\" xlink:href=\"#ArialMT-48\"/>\r\n       <use x=\"278.076172\" xlink:href=\"#ArialMT-48\"/>\r\n      </g>\r\n     </g>\r\n    </g>\r\n    <g id=\"ytick_4\">\r\n     <g id=\"line2d_4\">\r\n      <path clip-path=\"url(#pceb012a095)\" d=\"M 60.710938 99.588492 \r\nL 395.510938 99.588492 \r\n\" style=\"fill:none;stroke:#cccccc;stroke-linecap:round;stroke-width:0.8;\"/>\r\n     </g>\r\n     <g id=\"text_8\">\r\n      <!-- 300000 -->\r\n      <g style=\"fill:#262626;\" transform=\"translate(20.345312 103.167398)scale(0.1 -0.1)\">\r\n       <defs>\r\n        <path d=\"M 4.203125 18.890625 \r\nL 12.984375 20.0625 \r\nQ 14.5 12.59375 18.140625 9.296875 \r\nQ 21.78125 6 27 6 \r\nQ 33.203125 6 37.46875 10.296875 \r\nQ 41.75 14.59375 41.75 20.953125 \r\nQ 41.75 27 37.796875 30.921875 \r\nQ 33.84375 34.859375 27.734375 34.859375 \r\nQ 25.25 34.859375 21.53125 33.890625 \r\nL 22.515625 41.609375 \r\nQ 23.390625 41.5 23.921875 41.5 \r\nQ 29.546875 41.5 34.03125 44.421875 \r\nQ 38.53125 47.359375 38.53125 53.46875 \r\nQ 38.53125 58.296875 35.25 61.46875 \r\nQ 31.984375 64.65625 26.8125 64.65625 \r\nQ 21.6875 64.65625 18.265625 61.421875 \r\nQ 14.84375 58.203125 13.875 51.765625 \r\nL 5.078125 53.328125 \r\nQ 6.6875 62.15625 12.390625 67.015625 \r\nQ 18.109375 71.875 26.609375 71.875 \r\nQ 32.46875 71.875 37.390625 69.359375 \r\nQ 42.328125 66.84375 44.9375 62.5 \r\nQ 47.5625 58.15625 47.5625 53.265625 \r\nQ 47.5625 48.640625 45.0625 44.828125 \r\nQ 42.578125 41.015625 37.703125 38.765625 \r\nQ 44.046875 37.3125 47.5625 32.6875 \r\nQ 51.078125 28.078125 51.078125 21.140625 \r\nQ 51.078125 11.765625 44.234375 5.25 \r\nQ 37.40625 -1.265625 26.953125 -1.265625 \r\nQ 17.53125 -1.265625 11.296875 4.34375 \r\nQ 5.078125 9.96875 4.203125 18.890625 \r\nz\r\n\" id=\"ArialMT-51\"/>\r\n       </defs>\r\n       <use xlink:href=\"#ArialMT-51\"/>\r\n       <use x=\"55.615234\" xlink:href=\"#ArialMT-48\"/>\r\n       <use x=\"111.230469\" xlink:href=\"#ArialMT-48\"/>\r\n       <use x=\"166.845703\" xlink:href=\"#ArialMT-48\"/>\r\n       <use x=\"222.460938\" xlink:href=\"#ArialMT-48\"/>\r\n       <use x=\"278.076172\" xlink:href=\"#ArialMT-48\"/>\r\n      </g>\r\n     </g>\r\n    </g>\r\n    <g id=\"ytick_5\">\r\n     <g id=\"line2d_5\">\r\n      <path clip-path=\"url(#pceb012a095)\" d=\"M 60.710938 57.904656 \r\nL 395.510938 57.904656 \r\n\" style=\"fill:none;stroke:#cccccc;stroke-linecap:round;stroke-width:0.8;\"/>\r\n     </g>\r\n     <g id=\"text_9\">\r\n      <!-- 400000 -->\r\n      <g style=\"fill:#262626;\" transform=\"translate(20.345312 61.483562)scale(0.1 -0.1)\">\r\n       <defs>\r\n        <path d=\"M 32.328125 0 \r\nL 32.328125 17.140625 \r\nL 1.265625 17.140625 \r\nL 1.265625 25.203125 \r\nL 33.9375 71.578125 \r\nL 41.109375 71.578125 \r\nL 41.109375 25.203125 \r\nL 50.78125 25.203125 \r\nL 50.78125 17.140625 \r\nL 41.109375 17.140625 \r\nL 41.109375 0 \r\nz\r\nM 32.328125 25.203125 \r\nL 32.328125 57.46875 \r\nL 9.90625 25.203125 \r\nz\r\n\" id=\"ArialMT-52\"/>\r\n       </defs>\r\n       <use xlink:href=\"#ArialMT-52\"/>\r\n       <use x=\"55.615234\" xlink:href=\"#ArialMT-48\"/>\r\n       <use x=\"111.230469\" xlink:href=\"#ArialMT-48\"/>\r\n       <use x=\"166.845703\" xlink:href=\"#ArialMT-48\"/>\r\n       <use x=\"222.460938\" xlink:href=\"#ArialMT-48\"/>\r\n       <use x=\"278.076172\" xlink:href=\"#ArialMT-48\"/>\r\n      </g>\r\n     </g>\r\n    </g>\r\n    <g id=\"ytick_6\">\r\n     <g id=\"line2d_6\">\r\n      <path clip-path=\"url(#pceb012a095)\" d=\"M 60.710938 16.22082 \r\nL 395.510938 16.22082 \r\n\" style=\"fill:none;stroke:#cccccc;stroke-linecap:round;stroke-width:0.8;\"/>\r\n     </g>\r\n     <g id=\"text_10\">\r\n      <!-- 500000 -->\r\n      <g style=\"fill:#262626;\" transform=\"translate(20.345312 19.799726)scale(0.1 -0.1)\">\r\n       <defs>\r\n        <path d=\"M 4.15625 18.75 \r\nL 13.375 19.53125 \r\nQ 14.40625 12.796875 18.140625 9.390625 \r\nQ 21.875 6 27.15625 6 \r\nQ 33.5 6 37.890625 10.78125 \r\nQ 42.28125 15.578125 42.28125 23.484375 \r\nQ 42.28125 31 38.0625 35.34375 \r\nQ 33.84375 39.703125 27 39.703125 \r\nQ 22.75 39.703125 19.328125 37.765625 \r\nQ 15.921875 35.84375 13.96875 32.765625 \r\nL 5.71875 33.84375 \r\nL 12.640625 70.609375 \r\nL 48.25 70.609375 \r\nL 48.25 62.203125 \r\nL 19.671875 62.203125 \r\nL 15.828125 42.96875 \r\nQ 22.265625 47.46875 29.34375 47.46875 \r\nQ 38.71875 47.46875 45.15625 40.96875 \r\nQ 51.609375 34.46875 51.609375 24.265625 \r\nQ 51.609375 14.546875 45.953125 7.46875 \r\nQ 39.0625 -1.21875 27.15625 -1.21875 \r\nQ 17.390625 -1.21875 11.203125 4.25 \r\nQ 5.03125 9.71875 4.15625 18.75 \r\nz\r\n\" id=\"ArialMT-53\"/>\r\n       </defs>\r\n       <use xlink:href=\"#ArialMT-53\"/>\r\n       <use x=\"55.615234\" xlink:href=\"#ArialMT-48\"/>\r\n       <use x=\"111.230469\" xlink:href=\"#ArialMT-48\"/>\r\n       <use x=\"166.845703\" xlink:href=\"#ArialMT-48\"/>\r\n       <use x=\"222.460938\" xlink:href=\"#ArialMT-48\"/>\r\n       <use x=\"278.076172\" xlink:href=\"#ArialMT-48\"/>\r\n      </g>\r\n     </g>\r\n    </g>\r\n    <g id=\"text_11\">\r\n     <!-- count -->\r\n     <g style=\"fill:#262626;\" transform=\"translate(14.357812 128.150469)rotate(-90)scale(0.1 -0.1)\">\r\n      <defs>\r\n       <path d=\"M 40.4375 19 \r\nL 49.078125 17.875 \r\nQ 47.65625 8.9375 41.8125 3.875 \r\nQ 35.984375 -1.171875 27.484375 -1.171875 \r\nQ 16.84375 -1.171875 10.375 5.78125 \r\nQ 3.90625 12.75 3.90625 25.734375 \r\nQ 3.90625 34.125 6.6875 40.421875 \r\nQ 9.46875 46.734375 15.15625 49.875 \r\nQ 20.84375 53.03125 27.546875 53.03125 \r\nQ 35.984375 53.03125 41.359375 48.75 \r\nQ 46.734375 44.484375 48.25 36.625 \r\nL 39.703125 35.296875 \r\nQ 38.484375 40.53125 35.375 43.15625 \r\nQ 32.28125 45.796875 27.875 45.796875 \r\nQ 21.234375 45.796875 17.078125 41.03125 \r\nQ 12.9375 36.28125 12.9375 25.984375 \r\nQ 12.9375 15.53125 16.9375 10.796875 \r\nQ 20.953125 6.0625 27.390625 6.0625 \r\nQ 32.5625 6.0625 36.03125 9.234375 \r\nQ 39.5 12.40625 40.4375 19 \r\nz\r\n\" id=\"ArialMT-99\"/>\r\n       <path d=\"M 3.328125 25.921875 \r\nQ 3.328125 40.328125 11.328125 47.265625 \r\nQ 18.015625 53.03125 27.640625 53.03125 \r\nQ 38.328125 53.03125 45.109375 46.015625 \r\nQ 51.90625 39.015625 51.90625 26.65625 \r\nQ 51.90625 16.65625 48.90625 10.90625 \r\nQ 45.90625 5.171875 40.15625 2 \r\nQ 34.421875 -1.171875 27.640625 -1.171875 \r\nQ 16.75 -1.171875 10.03125 5.8125 \r\nQ 3.328125 12.796875 3.328125 25.921875 \r\nz\r\nM 12.359375 25.921875 \r\nQ 12.359375 15.96875 16.703125 11.015625 \r\nQ 21.046875 6.0625 27.640625 6.0625 \r\nQ 34.1875 6.0625 38.53125 11.03125 \r\nQ 42.875 16.015625 42.875 26.21875 \r\nQ 42.875 35.84375 38.5 40.796875 \r\nQ 34.125 45.75 27.640625 45.75 \r\nQ 21.046875 45.75 16.703125 40.8125 \r\nQ 12.359375 35.890625 12.359375 25.921875 \r\nz\r\n\" id=\"ArialMT-111\"/>\r\n       <path d=\"M 40.578125 0 \r\nL 40.578125 7.625 \r\nQ 34.515625 -1.171875 24.125 -1.171875 \r\nQ 19.53125 -1.171875 15.546875 0.578125 \r\nQ 11.578125 2.34375 9.640625 5 \r\nQ 7.71875 7.671875 6.9375 11.53125 \r\nQ 6.390625 14.109375 6.390625 19.734375 \r\nL 6.390625 51.859375 \r\nL 15.1875 51.859375 \r\nL 15.1875 23.09375 \r\nQ 15.1875 16.21875 15.71875 13.8125 \r\nQ 16.546875 10.359375 19.234375 8.375 \r\nQ 21.921875 6.390625 25.875 6.390625 \r\nQ 29.828125 6.390625 33.296875 8.421875 \r\nQ 36.765625 10.453125 38.203125 13.9375 \r\nQ 39.65625 17.4375 39.65625 24.078125 \r\nL 39.65625 51.859375 \r\nL 48.4375 51.859375 \r\nL 48.4375 0 \r\nz\r\n\" id=\"ArialMT-117\"/>\r\n      </defs>\r\n      <use xlink:href=\"#ArialMT-99\"/>\r\n      <use x=\"50\" xlink:href=\"#ArialMT-111\"/>\r\n      <use x=\"105.615234\" xlink:href=\"#ArialMT-117\"/>\r\n      <use x=\"161.230469\" xlink:href=\"#ArialMT-110\"/>\r\n      <use x=\"216.845703\" xlink:href=\"#ArialMT-116\"/>\r\n     </g>\r\n    </g>\r\n   </g>\r\n   <g id=\"patch_3\">\r\n    <path clip-path=\"url(#pceb012a095)\" d=\"M 71.870937 224.64 \r\nL 161.150937 224.64 \r\nL 161.150937 187.249182 \r\nL 71.870937 187.249182 \r\nz\r\n\" style=\"fill:#78a9c4;stroke:#ffffff;stroke-linejoin:miter;\"/>\r\n   </g>\r\n   <g id=\"patch_4\">\r\n    <path clip-path=\"url(#pceb012a095)\" d=\"M 183.470937 224.64 \r\nL 272.750937 224.64 \r\nL 272.750937 17.554286 \r\nL 183.470937 17.554286 \r\nz\r\n\" style=\"fill:#f7f6f6;stroke:#ffffff;stroke-linejoin:miter;\"/>\r\n   </g>\r\n   <g id=\"patch_5\">\r\n    <path clip-path=\"url(#pceb012a095)\" d=\"M 295.070938 224.64 \r\nL 384.350938 224.64 \r\nL 384.350938 189.985309 \r\nL 295.070938 189.985309 \r\nz\r\n\" style=\"fill:#d48a76;stroke:#ffffff;stroke-linejoin:miter;\"/>\r\n   </g>\r\n   <g id=\"patch_6\">\r\n    <path d=\"M 60.710938 224.64 \r\nL 60.710938 7.2 \r\n\" style=\"fill:none;stroke:#cccccc;stroke-linecap:square;stroke-linejoin:miter;stroke-width:0.8;\"/>\r\n   </g>\r\n   <g id=\"patch_7\">\r\n    <path d=\"M 395.510938 224.64 \r\nL 395.510938 7.2 \r\n\" style=\"fill:none;stroke:#cccccc;stroke-linecap:square;stroke-linejoin:miter;stroke-width:0.8;\"/>\r\n   </g>\r\n   <g id=\"patch_8\">\r\n    <path d=\"M 60.710938 224.64 \r\nL 395.510938 224.64 \r\n\" style=\"fill:none;stroke:#cccccc;stroke-linecap:square;stroke-linejoin:miter;stroke-width:0.8;\"/>\r\n   </g>\r\n   <g id=\"patch_9\">\r\n    <path d=\"M 60.710938 7.2 \r\nL 395.510938 7.2 \r\n\" style=\"fill:none;stroke:#cccccc;stroke-linecap:square;stroke-linejoin:miter;stroke-width:0.8;\"/>\r\n   </g>\r\n  </g>\r\n </g>\r\n <defs>\r\n  <clipPath id=\"pceb012a095\">\r\n   <rect height=\"217.44\" width=\"334.8\" x=\"60.710938\" y=\"7.2\"/>\r\n  </clipPath>\r\n </defs>\r\n</svg>\r\n",
      "image/png": "[encoded data removed]"
     },
     "metadata": {}
    }
   ],
   "source": [
    "sns.set_style('whitegrid')\n",
    "sns.countplot(x='strength',data=data,palette='RdBu_r')"
   ]
  },
  {
   "cell_type": "code",
   "execution_count": 14,
   "metadata": {},
   "outputs": [
    {
     "output_type": "execute_result",
     "data": {
      "text/plain": "(669639, 2)"
     },
     "metadata": {},
     "execution_count": 14
    }
   ],
   "source": [
    "data.shape"
   ]
  },
  {
   "cell_type": "code",
   "execution_count": 15,
   "metadata": {},
   "outputs": [
    {
     "output_type": "execute_result",
     "data": {
      "text/plain": "['kzde5577',\n 'kzde5577',\n 'visi7k1yr',\n 'visi7k1yr',\n 'kino3434',\n 'kino3434',\n 'lamborghin1',\n 'megzy123',\n 'v1118714',\n 'v1118714',\n 'u6c8vhow',\n 'kzde5577',\n 'asv5o9yu',\n 'v1118714',\n 'lamborghin1',\n 'WUt9IZzE0OQ7PkNE',\n 'kino3434',\n 'kino3434',\n 'idofo673',\n '6975038lp',\n 'idofo673',\n 'u6c8vhow',\n 'megzy123',\n 'elyass15@ajilent-ci',\n 'klara-tershina3H',\n 'as326159',\n 'universe2908',\n 'WUt9IZzE0OQ7PkNE',\n 'sbl571017',\n 'elyass15@ajilent-ci',\n 'kino3434',\n 'lamborghin1',\n 'megzy123',\n 'g067057895',\n 'WUt9IZzE0OQ7PkNE',\n 'kzde5577',\n 'jytifok873',\n 'go7kew7a2po',\n 'visi7k1yr',\n 'v1118714',\n 'v1118714',\n 'visi7k1yr',\n 'faranumar91',\n 'universe2908',\n 'v1118714',\n 'czuodhj972',\n 'idofo673',\n 'kino3434',\n 'hpqkoxsn5',\n '52558000aaa',\n 'ok>bdk',\n 'gaymaids1',\n 'visi7k1yr',\n 'kswa2mrv',\n 'patri1973',\n 'asgaliu11',\n 'go7kew7a2po',\n 'u6c8vhow',\n 'asv5o9yu',\n 'WUt9IZzE0OQ7PkNE',\n 'asgaliu11',\n 'd04m11',\n 'go7kew7a2po',\n 'faranumar91',\n 'sknq7m0',\n 'WUt9IZzE0OQ7PkNE',\n 'megzy123',\n 'khmer100.03278&?><Mnb',\n '612035180tok',\n 'trabajonet9',\n 'obstacle25',\n 'yitbos77',\n 'czuodhj972',\n 'idofo673',\n 'il0vey0u',\n 'tamanagung6',\n '283671gus',\n 'khmer100.03278&?><Mnb',\n 'juliel009',\n 'hodygid757',\n 'kjkjkj1',\n '0169395484a',\n 'mickael12',\n 'universe2908',\n 'lamborghin1',\n 'k9b8cz6aj2',\n 'bozoxik602',\n 'openup12',\n 'kunyukbabi69',\n 'b4NbTxDEyNgG141J',\n 'kunyukbabi69',\n 'a2531106',\n 'AVYq1lDE4MgAZfNt',\n 'sknq7m0',\n '3vszncp4',\n 'khmer100.03278&?><Mnb',\n 'hpqkoxsn5',\n 'khmer100.03278&?><Mnb',\n 'hpqkoxsn5',\n 'universe2908',\n 'gaymaids1',\n 'jalingo1',\n 'cesarmaio1',\n 'go7kew7a2po',\n 'bozoxik602',\n 'hpqkoxsn5',\n 'gkrqjs6',\n '0169395484a',\n 'asv5o9yu',\n 'ok>bdk',\n 'sbl571017',\n 'jytifok873',\n 'WUt9IZzE0OQ7PkNE',\n 'klara-tershina3H',\n '612035180tok',\n 'bozoxik602',\n 'lsdlsd1',\n 'asv5o9yu',\n '2akira2',\n '0169395484a',\n 'TyWM72UNEex8Q8Y',\n 'juliel009',\n 'sbl571017',\n 'RqsuUsDYxNgr8T40',\n 'ejeko677',\n 'a2531106',\n 'jytifok873',\n 'trabajonet9',\n 'poseidon2011',\n 'pato221182',\n 'kino3434',\n 'RqsuUsDYxNgr8T40',\n 'rogyh820',\n 'teemteem97',\n 'kino3434',\n 'khmer100.03278&?><Mnb',\n 'universe2908',\n 'juliana19',\n 'bozoxik602',\n 'yuri110995',\n '929865yt',\n 'bozoxik602',\n 'kino3434',\n 'poseidon2011',\n 'gkrqjs6',\n 'a2531106',\n 'yuri110995',\n 'ok>bdk',\n 'czuodhj972',\n 'kino3434',\n 'go7kew7a2po',\n 'calcifer32',\n 'exitos2009',\n 'jerusalem393',\n 'universe2908',\n '838188linh',\n '746xitEGiqObog',\n '52558000aaa',\n 'patri1973',\n 'gdfn76',\n 'exitos2009',\n 'idofo673',\n 'kswa2mrv',\n 'j09000',\n 'jonothepoop1',\n 'igejasy712',\n 'portales1',\n 'go7kew7a2po',\n 'go7kew7a2po',\n 'cesarmaio1',\n 'farrukhcse12',\n 'hodygid757',\n 'portales1',\n 'yk530mg8',\n 'alchimie79',\n 'RPFUOUDQwMwVW0AS',\n 'jonothepoop1',\n 'ok>bdk',\n 'RPFUOUDQwMwVW0AS',\n 'tin030201',\n 'jUV4dSDQwNwPpA36',\n 'www32223222',\n 'fahad123',\n 'pHyqueDIyNQ8vmhb',\n 'ekufite742',\n 'b4NbTxDEyNgG141J',\n 'memjan123',\n '1972vishara',\n 'polo2014',\n '746xitEGiqObog',\n 'finisterra1',\n 'afs34214',\n 'matiofox08',\n 'jonothepoop1',\n 'poseidon2011',\n 'kjkjkj1',\n 'trabajonet9',\n 'jytifok873',\n 'asgaliu11',\n '2akira2',\n 'mazdarx7',\n 'nicolas05',\n '2yz4ewwg',\n 'afs34214',\n 'z888888',\n 'ginger972',\n 'moken7',\n 'change201',\n 'faranumar91',\n 'elonex24',\n 'memjan123',\n 'x8512514',\n 'sknq7m0',\n 'xyws951753',\n 'tomas7896',\n 'puegwajy416',\n 'yllime123',\n 'v10rica',\n 'farrukhcse12',\n '2yz4ewwg',\n 'pHyqueDIyNQ8vmhb',\n 'prisonbreak1',\n '123maxbala',\n 'a2531106',\n 'meopvywk628',\n 'teste10',\n 'nK0yKXTU0NQHZE2e',\n 'c3h8bkzr',\n 'www32223222',\n 'kzde5577',\n 'gandhi8513',\n 'denise18',\n '12345yolanda',\n 'sarahi1628',\n 'gtlek',\n 'oekojWyH120063',\n 'a0972986650',\n 'z7zbgIDkzMQeHUd9',\n 'megzy123',\n 's0xwym7h',\n 'sanki1',\n 'portales1',\n 'afs34214',\n 'yut0838828185',\n 'ebacuro434',\n 'nK0yKXTU0NQHZE2e',\n 'p@sslng2diword',\n 'bozoxik602',\n 'colorado27',\n 'cockw0mble',\n 'go7kew7a2po',\n '147963asd',\n 'rogyh820',\n '4fqa52vecr',\n '283671gus',\n 'warriors08',\n '33kanun03',\n 'mustang337',\n 'barra23',\n 'tia150979',\n '20Dgw7TQ0OQVdly7',\n 'igejasy712',\n '7mV0pKTA3MgHy8Jv',\n '20010509wang',\n 'lsdlsd1',\n 'obstacle25',\n 'z3ro1sm',\n 'RPFUOUDQwMwVW0AS',\n 'kVczcljg4OA25Aeb',\n 'denise18',\n 'kikeq102',\n 'nK0yKXTU0NQHZE2e',\n '123477889a',\n 'z3ro1sm',\n 'kayal123',\n 'znbl5tj1',\n 'UF1Z2WjE5Mg26R1K',\n 'owote852',\n 'www32223222',\n 'kino3434',\n 'isqizkg1',\n '2fakjv',\n 'denise18',\n 'rntprns7',\n 'elonex24',\n 'u6c8vhow',\n 'v1118714',\n 'a2486315',\n 'kjkjkj1',\n 'exitos2009',\n 'pablo321159',\n 'hayhayq2',\n 'hosna1368',\n 'wisal1234',\n 'jalal123456',\n 'sbaUsoTA1OAzuevI',\n 'juliana19',\n 'klara-tershina3H',\n 's9830950044',\n 'jalal123456',\n 'jerusalem393',\n 'bozoxik602',\n 'ok>bdk',\n 'j09000',\n 'wxS2ztDk4OATjBfI',\n 'uxyloga692',\n '6tequila6',\n 'virush1n1',\n '6tequila6',\n 'ppnyadam09',\n 'clave08',\n 'polo2014',\n 'z888888',\n 'ppnyadam09',\n 'jerusalem393',\n 'TyWM72UNEex8Q8Y',\n 'tomas7896',\n 'samael666',\n 'asgaliu11',\n '7942vikas',\n 'wo9aiwangyan',\n 'juliel009',\n 'ldteugao6',\n '0112358mayin0',\n 'openup12',\n '1katertje',\n 'metopelo1623',\n 'tucagu356',\n 'AS0130066',\n 'jEzZXUTE3MgJ4fVk',\n 'nK0yKXTU0NQHZE2e',\n 'hayhayq2',\n 'tin030201',\n '4fqa52vecr',\n 'mazdarx7',\n 'z7zbgIDkzMQeHUd9',\n 'planes123',\n 'njmania114',\n 'x0004534',\n '2GnTStTE4Mw4MTwv',\n 'a03242241431a',\n 'yitbos77',\n '20010509wang',\n '838188linh',\n '20010509wang',\n 'sasuke4',\n 'gill02',\n '283671gus',\n 'faranumar91',\n 'schalke04',\n 'bgrvl80',\n 'Iamthelegend1!',\n 'lamborghin1',\n '283671gus',\n 'y0unus',\n 'holamundo1',\n 'TyWM72UNEex8Q8Y',\n 'hpqkoxsn5',\n 'khmer100.03278&?><Mnb',\n 'tomas7896',\n 'pikey231',\n '838188linh',\n 'gkrqjs6',\n 'z3ro1sm',\n 'gkrqjs6',\n 'uou2dae',\n '2021848709.',\n 'ginger972',\n 'matiz4533',\n 'z3ro1sm',\n 'kayal123',\n 'wxS2ztDk4OATjBfI',\n 'teste10',\n 'e667794c1d',\n 'krumbul123',\n 'fk9qi21m',\n 'beijing168',\n 'nicolas05',\n 'xp;ysmybst',\n 'pazzini24',\n 'nokia6020',\n 'universe2908',\n 'sofietou74',\n 'k9b8cz6aj2',\n 'pugceya468',\n 'ebacuro434',\n 'gvczfel801',\n 'planes123',\n 'IjUcOtYqAwel725',\n 'aio42fv',\n 'yk530mg8',\n 'k1k2k3k4k5k6',\n 'ldteugao6',\n 'aslpls2009',\n 'wxS2ztDk4OATjBfI',\n 'kswa2mrv',\n 'mario489800',\n 'wxS2ztDk4OATjBfI',\n 'ram@!sita15392',\n 'gdfn76',\n 'zgmfnwuq25',\n 'denise18',\n 'ass359',\n 'ns2b0727',\n 'e667794c1d',\n 'p@sslng2diword',\n 'QWERTY0011',\n 'ldteugao6',\n 'y0unus',\n 'lofebop480',\n 'vehat387',\n 'gdfn76',\n 'jEzZXUTE3MgJ4fVk',\n 'rogyh820',\n 'as326159',\n 'igejasy712',\n 'gandhi8513',\n 'saule123',\n 'parent777',\n 'senghong2009',\n 'oioo9og',\n 'hodygid757',\n 'xiau5ff',\n 'w9209640',\n 'g3rappa',\n 'hlQ8gDTExMQWkeda',\n 'tia150979',\n 'sofietou74',\n 'cigicigi123',\n 'sbaUsoTA1OAzuevI',\n 'asdasdf1',\n 'asgaliu11',\n 'go7kew7a2po',\n 'Staterkom20081993',\n 'poseidon2011',\n 'khmer100.03278&?><Mnb',\n 'wasanun13',\n 'kyxvufl37',\n 'il0vey0u',\n '123477889a',\n 'warriors08',\n 'buqodym199',\n 'tia150979',\n '6yy6yy',\n 'edcmki90',\n 'moken7',\n 'meopvywk628',\n 'ninja420',\n 'ninja420',\n 'yitbos77',\n '4165000yakub',\n 'balamuc123',\n '746xitEGiqObog',\n 'pekai2004',\n 'tim80327',\n 'jbtcnd6',\n 'GGmm26120904..',\n 'juany57',\n '1qa2ws3ed4r',\n 'schalke04',\n 'adminmao888',\n 'bgrvl80',\n 'juliel009',\n 'xp;ysmybst',\n 'hasan18',\n 'a2486315',\n '2021848709.',\n 'koabcswzt3',\n '6tequila6',\n '64whbrb351',\n '2fakjv',\n 'oekojWyH120063',\n 'jsm159167',\n 'ypodahe201',\n 'servbot88',\n '0870330135a',\n 'kabrito1',\n 'den019520',\n 'clave08',\n 'xtswdypgh936',\n '3vszncp4',\n '2021848709.',\n 'rogyh820',\n 'RqsuUsDYxNgr8T40',\n 'mashhood_afzal21087',\n 'DTUQG5jU5MwmR1L9',\n 'pugceya468',\n 'a0972986650',\n 'elyass15@ajilent-ci',\n 'gkrqjs6',\n 'zjl0kx03',\n 'mathilde54550',\n 'yqugu927',\n 'control9',\n 'a2486315',\n 'sandra0547',\n '159951josh',\n 'go7kew7a2po',\n 'alimagik1',\n 'sd6x9s3s',\n 'a110804032',\n 'bozoxik602',\n 'jUV4dSDQwNwPpA36',\n 'wycinu436',\n 'graciela2',\n 'taiga0088',\n 'roxana1993',\n 'nLIGyhTU1NQTAp6u',\n 'urban1',\n '746xitEGiqObog',\n 'cigicigi123',\n 'yzxwvgbdu503',\n 'laedbchsx687',\n 'mussuh4',\n 'czuodhj972',\n 'vietnga92',\n 'deryxi704',\n 'kjkjkj1',\n 'czuodhj972',\n 'mohantra1',\n 'paladinas1',\n 'finisterra1',\n 'e667794c1d',\n 'kzde5577',\n 'tukaxo486',\n 'afavin964',\n 'markama10',\n 'as8594505',\n 'tin030201',\n 'oatcake87',\n 'gill02',\n 'ga98SIzk0NwhiZaE',\n 'ebogel225',\n 'pmcm110118008',\n 'prisonbreak1',\n '7mV0pKTA3MgHy8Jv',\n 'faisal213',\n 'kXzWOozU2MQ1Jv1h',\n 'yy4129',\n 'asakapa22',\n 'jsm159167',\n 'nhfdff2512',\n '238wofutUtIGyf',\n 'b98nwtpriyesh',\n 'uziwocy148',\n 'sofietou74',\n '123net123',\n 'uoaef06gfqeb',\n 'synyxyr723',\n 'xiau5ff',\n 'holamundo1',\n 'jytifok873',\n 'QWERTY0011',\n 'xlxlxl777',\n 'il0vey0u',\n 'yami12',\n 'yy4129',\n 'mickael12',\n '6tequila6',\n 'adminmao888',\n 'frhnsvelhfr1',\n 'wasanun13',\n 'rrilni1747',\n '4osxw4r',\n 'sofietou74',\n 'gandhi8513',\n '1991vikash',\n '07dpv1127b',\n '4TXr5KDYxNQVTo4g',\n 'yami12',\n 'paladinas1',\n 'd4xQ3LjUwMQFVCYQ',\n 'butisugo39',\n 'cristiano7',\n 'synyxyr723',\n 'pedronha96',\n '23deagosto',\n 'as326159',\n 's9830950044',\n 'qn5xpg3k00',\n 'ga98SIzk0NwhiZaE',\n 'bc5e4vca',\n 'zgmfnwuq25',\n 'acetita478',\n 'holamundo1',\n 'kah4544875',\n '72o0yzekib4',\n 'VMjz4eTkxNAbOyUU',\n 'aosmaxd0',\n 'exitos2009',\n 'd4xQ3LjUwMQFVCYQ',\n 'elabadmin1386',\n 'jbtcnd6',\n 'azerty32',\n 'jalal123456',\n 'xtswdypgh936',\n 'parvizrus13',\n '10Erjrlmebup0n',\n 'ycqtgdso3',\n 'robot425',\n 'AS0130066',\n 'sofietou74',\n 'aslpls2009',\n 'diarie1',\n 'ycqtgdso3',\n 'padhila30',\n 'amandine666',\n 'DTUQG5jU5MwmR1L9',\n 'juany57',\n '0870330135a',\n 'topgan22',\n 'den019520',\n 'farrukhcse12',\n 'holamundo1',\n 'w9209640',\n 'snolyuj04',\n 'mmm23mm',\n 'fr8OClDY1MAdEhHa',\n 'metopelo1623',\n 'visi7k1yr',\n 'zu20081965',\n 's0xwym7h',\n '4TXr5KDYxNQVTo4g',\n '10Erjrlmebup0n',\n '215466kenyi',\n 'kjkjkj1',\n 'demon10',\n 'itengf12',\n 'g3rappa',\n 'il0vey0u',\n '3vszncp4',\n 'calcifer32',\n 'pedronha96',\n 'bellsuki1',\n 'pikey231',\n 'krishna2',\n 'fr8OClDY1MAdEhHa',\n 'yuri110995',\n 'kunyukbabi69',\n 'ryjypes139',\n 'BsKbJHTY4NgesCOs',\n 'yu4cmn',\n 'nokia6020',\n 'b4NbTxDEyNgG141J',\n 'matiofox08',\n 'nebunule2',\n 'cUFUSYKIPuGo024',\n 'qwekl12',\n 'mohantra1',\n '19840510kkk1',\n 'josue12',\n 'aslanmarco007',\n 'wxS2ztDk4OATjBfI',\n 'patri1973',\n 'olyucskw52',\n '030005qw',\n 'ykfums1',\n 'RPFUOUDQwMwVW0AS',\n 'grazi0201',\n 'butisugo39',\n 'qefoquf1uf',\n 'rrilni1747',\n 'ebogel225',\n '147963asd',\n 'ppnyadam09',\n 'olmaz.',\n 'bozoxik602',\n 'sbl571017',\n 'princ3sa',\n 'k1k2k3k4k5k6',\n '20010509wang',\n '01161590m',\n 'princ3sa',\n 'megdam55',\n 'xW8-3w7-MFB-CKH',\n 'kXzWOozU2MQ1Jv1h',\n 'grazi0201',\n 'denise18',\n 'memjan123',\n 'Oshity07142014',\n 'pr0f1s10',\n 'universe2908',\n 'nokia6020',\n 'skoda06',\n 'senghong2009',\n 'gvczfel801',\n 'sarahi1628',\n 'seeyouagain1',\n 'rrilni1747',\n 'ginger972',\n 'm4r4hne',\n 'julie1989',\n '7l1hu1xa',\n 'lqksuym982',\n '19821010a',\n 'growerz543',\n 'atigi839',\n 'YADHJIGSAWS11',\n 'speedracer10',\n 'gkrqjs6',\n 'oscar69',\n 'GGmm26120904..',\n 'balamuc123',\n 'uqilyni846',\n 'ldteugao6',\n 'BsKbJHTY4NgesCOs',\n 'hola45',\n '123456rajput',\n 'asgaliu11',\n 'webhost08',\n 'satelite31',\n 'eth36498',\n 'pukiw102',\n 'L2i2ZwTg1MQajeBm',\n 'alimagik1',\n 'ajyrew547',\n 'IP1yaTDUzOQWAeI5',\n '72o0yzekib4',\n '1katertje',\n '159951josh',\n '3clrcaevu7',\n 'ubojig109',\n 'mmm23mm',\n 'sknq7m0',\n 'aslpls2009',\n 'metopelo1623',\n '19840510kkk1',\n 'ydkmujrze3',\n '0169395484a',\n 'metopelo1623',\n 'sanki1',\n 'kry1z9',\n 'samael666',\n 'cigicigi123',\n 'iprwxmfk84',\n 'YADHJIGSAWS11',\n '2010server',\n 'sanjaime1',\n 'avanakit72',\n 'wearehis7',\n 'mzhrmir786',\n '6yy6yy',\n 'fk9qi21m',\n 'wbtdrieus345',\n 'mustang337',\n '23deagosto',\n 'kzde5577',\n 'sono11',\n 'v8porwar3',\n 'woon12',\n 'qopybuxi2',\n 'acgyj188',\n 'artom111478',\n 'zedika521',\n 'vocal0619',\n 'xW8-3w7-MFB-CKH',\n 'ezekiel720',\n 'wbtdrieus345',\n 'cribrot1200',\n 'taulant123',\n 'xawipy995',\n '746xitEGiqObog',\n 'rntprns7',\n 'a03242241431a',\n 'cUFUSYKIPuGo024',\n 'franczuk33',\n 'farrukhcse12',\n 'upomel180',\n 'ginger972',\n 'k9b8cz6aj2',\n 'sofietou74',\n 'ilunia20',\n 'tukaxo486',\n 'pmcm110118008',\n 'smart95',\n 'v1s2c3456',\n 'asgaliu11',\n '838188linh',\n 'sarahi1628',\n 'jannia5',\n '2863e00016',\n 'owote852',\n 'gandhi8513',\n 'alodise603',\n 'd4xQ3LjUwMQFVCYQ',\n 'josue12',\n 'v1118714',\n 'vuqADUSatAJO800',\n 'sd6x9s3s',\n 'utuham322',\n '9950twofour0',\n 'w9209640',\n 'pass0port',\n 'uqilyni846',\n 'jUV4dSDQwNwPpA36',\n 'mike09',\n 'dK4dWOjM1OAPeisw',\n 'jEzZXUTE3MgJ4fVk',\n 'buqodym199',\n 'berserk18',\n '1A2Z3E4R',\n 'asakapa22',\n 'desmondkok21',\n 'examy624',\n '6tequila6',\n 'jj46azbo',\n 'cribrot1200',\n 'junaid5',\n 'clyioqzgw42',\n 'ppnyadam09',\n 'kabrito1',\n 'kciseba24521',\n 'CabezaDePollo476',\n 'vmdo3i',\n 'ydd45ee',\n 'finisterra1',\n 'lsdlsd1',\n 'J0LcDWDc2NAVE8j3',\n 'ns2b0727',\n 'x8512514',\n '4XakB8TkzOQWCS7Y',\n 'markama10',\n 'ass359',\n 'jj46azbo',\n 'moken7',\n 'calcifer32',\n 'ydd45ee',\n 'woaini0',\n 'paulino123',\n 'gopal8420',\n 'moken7',\n 'popo0404',\n 'deryxi704',\n 'ewvjbilan4',\n 'princ3sa',\n 'xW8-3w7-MFB-CKH',\n '000webhostcom',\n 'marita1',\n 'franczuk33',\n 'hodygid757',\n 'Zdyf0kjMzNQycqPx',\n 'jfk490giwb',\n 'peluchin4',\n 'control9',\n 'z888888',\n '0123one47',\n 'hylefup708',\n 'cerner09',\n 'sd6x9s3s',\n 'ass359',\n 'woaini0',\n '1qa2ws3ed4rf',\n 'irivur594',\n 'j03l4ytr1',\n 'kikeq102',\n 'yv3hpf',\n 'dK4dWOjM1OAPeisw',\n 'papasito1991',\n 'yqugu927',\n 'p2share',\n 'akucinta12',\n 'qn5xpg3k00',\n 'hayhayq2',\n 'bghuyku37',\n 'iacool99',\n 'ufoduvo540',\n 'gtlek',\n 'oslicek00',\n 'cifinew817',\n 'wearehis7',\n 'colorado27',\n 'wycinu436',\n 'djngeyut2707',\n 'wasanun13',\n '0169395484a',\n 'xW8-3w7-MFB-CKH',\n 'kP82iqDMxNgBMxBP',\n 'asakapa22',\n '283671gus',\n 'clave08',\n 'patata91',\n 'cristiano7',\n 'vocal0619',\n 'willboss13',\n 'hosna1368',\n 'sofietou74',\n 'kinga22',\n '1qa2ws3ed4r',\n 'b98nwtpriyesh',\n 'DTUQG5jU5MwmR1L9',\n '4osxw4r',\n 'sabrina123',\n 'RJXDk1zEyMwpyq0U',\n 'mark11',\n 'TyWM72UNEex8Q8Y',\n 'ydkmujrze3',\n 'tiga33',\n 'w9209640',\n 'yzxwvgbdu503',\n 'abizar08',\n 'jUV4dSDQwNwPpA36',\n 'Iamthelegend1!',\n 'wisal1234',\n 'paola1995',\n 'rqmswof2llb0',\n '838188linh',\n 'owataantena1',\n 'taulant123',\n '1245386fj',\n 'hosna1368',\n 'jerusalem393',\n 'IP1yaTDUzOQWAeI5',\n 'xiau5ff',\n 'irivur594',\n 'kino3434',\n 'viri13',\n 'wo9aiwangyan',\n 'portales1',\n 'webhost08',\n 'moken7',\n 'bellsuki1',\n 'Scipio21152030067254',\n 'yut0838828185',\n 'cxZLmFDYwNA1lUK9',\n 'RPFUOUDQwMwVW0AS',\n '2fakjv',\n '1597535youssi',\n 'mohantra1',\n 'mialr325',\n '2010server',\n 'yeko69',\n 'aslanmarco007',\n 'uvazyd135',\n 'goony01',\n 'sbl571017',\n '0169395484a',\n 'lolmdr1',\n 'iL1BEmTUyMg8YYbn',\n '1vikaspoon',\n 'in595462',\n 'grazi0201',\n 'ezekiel720',\n '4lgYVfzk1MwuzHcn',\n 'pauramos06',\n 'chiefwanker1',\n 'walterivl13',\n 'hylefup708',\n 'mustang337',\n 'rogama69',\n 'we34dar88',\n 'ihana906',\n 'CabezaDePollo476',\n 'fr8OClDY1MAdEhHa',\n 'krowka18',\n 'ts02521712',\n 'stalucia66',\n 'hpqkoxsn5',\n 'v1s2c3456',\n 'emilly123',\n 'nK0yKXTU0NQHZE2e',\n 'shakes@000webhost',\n 'ilunia20',\n 'xve33ea',\n 'artom111478',\n 'purpledog1992',\n 'chuno8704',\n 'emufat882',\n '030005qw',\n 'skoda06',\n 'cerner09',\n '101010hadis',\n 'aa123000',\n 'finisterra1',\n 'calung2007',\n 'kuntz80',\n '159951josh',\n 'y0unus',\n 'nebunule2',\n 'bc5e4vca',\n 'sukkur1',\n 'zedika521',\n 'tamanagung6',\n 'zoblin80',\n 'hola45',\n 'd04m11',\n 'orysex325',\n '25sz4a1i',\n 'YanH2kzgxMw1AsXA',\n 'ashaii12',\n 'w1ll1ams',\n '225arysorIgEKa',\n 'ginger972',\n 'oioo9og',\n '2021848709.',\n '94311163nobp',\n 'jl440033',\n '01161590m',\n 'd04m11',\n '283671gus',\n 'mega0109',\n ...]"
     },
     "metadata": {},
     "execution_count": 15
    }
   ],
   "source": [
    "X"
   ]
  },
  {
   "cell_type": "code",
   "execution_count": 16,
   "metadata": {},
   "outputs": [],
   "source": [
    "def word_divide_char(inputs):\n",
    "    characters=[]\n",
    "    for i in inputs:\n",
    "        characters.append(i)\n",
    "    return characters"
   ]
  },
  {
   "cell_type": "code",
   "execution_count": 17,
   "metadata": {},
   "outputs": [],
   "source": [
    "from sklearn.feature_extraction.text import TfidfVectorizer\n",
    "vectorizer=TfidfVectorizer(tokenizer=word_divide_char)\n",
    "X=vectorizer.fit_transform(X)"
   ]
  },
  {
   "cell_type": "code",
   "execution_count": 18,
   "metadata": {},
   "outputs": [
    {
     "output_type": "execute_result",
     "data": {
      "text/plain": "(669639, 123)"
     },
     "metadata": {},
     "execution_count": 18
    }
   ],
   "source": [
    "X.shape"
   ]
  },
  {
   "cell_type": "code",
   "execution_count": 19,
   "metadata": {},
   "outputs": [
    {
     "output_type": "execute_result",
     "data": {
      "text/plain": "{'k': 58,\n 'z': 73,\n 'd': 51,\n 'e': 52,\n '5': 31,\n '7': 33,\n 'v': 69,\n 'i': 56,\n 's': 66,\n '1': 27,\n 'y': 72,\n 'r': 65,\n 'n': 61,\n 'o': 62,\n '3': 29,\n '4': 30,\n 'l': 59,\n 'a': 48,\n 'm': 60,\n 'b': 49,\n 'g': 54,\n 'h': 55,\n '2': 28,\n '8': 34,\n 'u': 68,\n '6': 32,\n 'c': 50,\n 'w': 70,\n '9': 35,\n 't': 67,\n '0': 26,\n 'q': 64,\n 'p': 63,\n 'f': 53,\n '@': 41,\n 'j': 57,\n '-': 23,\n 'x': 71,\n '>': 39,\n '.': 24,\n '&': 18,\n '?': 40,\n '<': 37,\n '!': 13,\n ';': 36,\n '_': 46,\n '%': 17,\n '(': 19,\n ')': 20,\n '\"': 14,\n '~': 77,\n '+': 22,\n '^': 45,\n '/': 25,\n '$': 16,\n '±': 84,\n '#': 15,\n ' ': 12,\n '*': 21,\n '{': 74,\n '}': 76,\n 'þ': 117,\n 'ó': 108,\n '[': 42,\n ']': 44,\n '\\x1c': 10,\n '³': 86,\n '=': 38,\n 'ô': 109,\n '`': 47,\n '\\\\': 43,\n '¿': 92,\n 'õ': 110,\n 'ä': 97,\n '\\x05': 0,\n '\\x1b': 9,\n 'ú': 114,\n 'ß': 93,\n '´': 87,\n 'å': 98,\n '‚': 120,\n 'à': 94,\n '°': 83,\n '«': 82,\n '\\x16': 6,\n 'ò': 107,\n '·': 89,\n '\\x1e': 11,\n '\\x7f': 78,\n '\\x19': 8,\n '|': 75,\n '\\x08': 2,\n 'ê': 102,\n 'á': 95,\n 'ð': 105,\n 'ÿ': 118,\n '¾': 91,\n 'í': 103,\n '¡': 80,\n 'ý': 116,\n '\\x17': 7,\n '÷': 112,\n 'â': 96,\n 'º': 90,\n '\\x10': 3,\n '\\x11': 4,\n '›': 122,\n 'ñ': 106,\n '‹': 121,\n 'µ': 88,\n 'œ': 119,\n '²': 85,\n 'ü': 115,\n 'æ': 99,\n 'ö': 111,\n '¨': 81,\n 'ï': 104,\n '\\x12': 5,\n 'ù': 113,\n '\\x81': 79,\n 'ç': 100,\n 'é': 101,\n '\\x06': 1}"
     },
     "metadata": {},
     "execution_count": 19
    }
   ],
   "source": [
    "vectorizer.vocabulary_"
   ]
  },
  {
   "cell_type": "code",
   "execution_count": 20,
   "metadata": {},
   "outputs": [
    {
     "output_type": "execute_result",
     "data": {
      "text/plain": "<669639x123 sparse matrix of type '<class 'numpy.float64'>'\n\twith 5643705 stored elements in Compressed Sparse Row format>"
     },
     "metadata": {},
     "execution_count": 20
    }
   ],
   "source": [
    "X"
   ]
  },
  {
   "cell_type": "code",
   "execution_count": 21,
   "metadata": {},
   "outputs": [
    {
     "output_type": "execute_result",
     "data": {
      "text/plain": "'kzde5577'"
     },
     "metadata": {},
     "execution_count": 21
    }
   ],
   "source": [
    "data.iloc[0,0]"
   ]
  },
  {
   "cell_type": "code",
   "execution_count": 22,
   "metadata": {},
   "outputs": [
    {
     "output_type": "execute_result",
     "data": {
      "text/plain": "       tfidf\n7   0.591317\n5   0.566888\nz   0.336711\nk   0.291447\nd   0.285853\n..       ...\n<   0.000000\n;   0.000000\n9   0.000000\n8   0.000000\n›   0.000000\n\n[123 rows x 1 columns]",
      "text/html": "<div>\n<style scoped>\n    .dataframe tbody tr th:only-of-type {\n        vertical-align: middle;\n    }\n\n    .dataframe tbody tr th {\n        vertical-align: top;\n    }\n\n    .dataframe thead th {\n        text-align: right;\n    }\n</style>\n<table border=\"1\" class=\"dataframe\">\n  <thead>\n    <tr style=\"text-align: right;\">\n      <th></th>\n      <th>tfidf</th>\n    </tr>\n  </thead>\n  <tbody>\n    <tr>\n      <th>7</th>\n      <td>0.591317</td>\n    </tr>\n    <tr>\n      <th>5</th>\n      <td>0.566888</td>\n    </tr>\n    <tr>\n      <th>z</th>\n      <td>0.336711</td>\n    </tr>\n    <tr>\n      <th>k</th>\n      <td>0.291447</td>\n    </tr>\n    <tr>\n      <th>d</th>\n      <td>0.285853</td>\n    </tr>\n    <tr>\n      <th>...</th>\n      <td>...</td>\n    </tr>\n    <tr>\n      <th>&lt;</th>\n      <td>0.000000</td>\n    </tr>\n    <tr>\n      <th>;</th>\n      <td>0.000000</td>\n    </tr>\n    <tr>\n      <th>9</th>\n      <td>0.000000</td>\n    </tr>\n    <tr>\n      <th>8</th>\n      <td>0.000000</td>\n    </tr>\n    <tr>\n      <th>›</th>\n      <td>0.000000</td>\n    </tr>\n  </tbody>\n</table>\n<p>123 rows × 1 columns</p>\n</div>"
     },
     "metadata": {},
     "execution_count": 22
    }
   ],
   "source": [
    "feature_names = vectorizer.get_feature_names()\n",
    " \n",
    "#get tfidf vector for first document\n",
    "first_document_vector=X[0]\n",
    " \n",
    "#print the scores\n",
    "df = pd.DataFrame(first_document_vector.T.todense(), index=feature_names, columns=[\"tfidf\"])\n",
    "df.sort_values(by=[\"tfidf\"],ascending=False)"
   ]
  },
  {
   "cell_type": "code",
   "execution_count": 23,
   "metadata": {},
   "outputs": [],
   "source": [
    "## Logistics Regression\n",
    "\n",
    "from sklearn.linear_model import LogisticRegression"
   ]
  },
  {
   "cell_type": "code",
   "execution_count": 24,
   "metadata": {},
   "outputs": [],
   "source": [
    "from sklearn.model_selection import train_test_split"
   ]
  },
  {
   "cell_type": "code",
   "execution_count": 25,
   "metadata": {},
   "outputs": [],
   "source": [
    "X_train, X_test, y_train, y_test = train_test_split(X, y, test_size=0.20, random_state=42)  #splitting\n"
   ]
  },
  {
   "cell_type": "code",
   "execution_count": 26,
   "metadata": {},
   "outputs": [
    {
     "output_type": "execute_result",
     "data": {
      "text/plain": "LogisticRegression(multi_class='ovr')"
     },
     "metadata": {},
     "execution_count": 26
    }
   ],
   "source": [
    "log_class=LogisticRegression(penalty='l2',multi_class='ovr')\n",
    "log_class.fit(X_train,y_train)"
   ]
  },
  {
   "cell_type": "code",
   "execution_count": 27,
   "metadata": {
    "tags": []
   },
   "outputs": [
    {
     "output_type": "stream",
     "name": "stdout",
     "text": "0.8121901320112299\n"
    }
   ],
   "source": [
    "print(log_class.score(X_test,y_test))"
   ]
  },
  {
   "cell_type": "code",
   "execution_count": 28,
   "metadata": {
    "tags": []
   },
   "outputs": [
    {
     "output_type": "stream",
     "name": "stdout",
     "text": "0.8185666925512215\n"
    }
   ],
   "source": [
    "## Multinomial\n",
    "\n",
    "clf = LogisticRegression(random_state=0, multi_class='multinomial', solver='newton-cg')\n",
    "clf.fit(X_train, y_train) #training\n",
    "print(clf.score(X_test, y_test))"
   ]
  },
  {
   "cell_type": "code",
   "execution_count": null,
   "metadata": {},
   "outputs": [],
   "source": []
  },
  {
   "cell_type": "code",
   "execution_count": 41,
   "metadata": {
    "tags": []
   },
   "outputs": [
    {
     "output_type": "stream",
     "name": "stdout",
     "text": "[1]\n"
    }
   ],
   "source": [
    "X_predict=np.array([\"$$@@566\"])\n",
    "X_predict=vectorizer.transform(X_predict)\n",
    "y_pred=log_class.predict(X_predict)\n",
    "print(y_pred)"
   ]
  },
  {
   "cell_type": "code",
   "execution_count": 30,
   "metadata": {},
   "outputs": [
    {
     "output_type": "execute_result",
     "data": {
      "text/plain": "XGBClassifier(base_score=0.5, booster='gbtree', colsample_bylevel=1,\n              colsample_bynode=1, colsample_bytree=1, gamma=0, gpu_id=-1,\n              importance_type='gain', interaction_constraints='',\n              learning_rate=0.300000012, max_delta_step=0, max_depth=6,\n              min_child_weight=1, missing=nan, monotone_constraints='()',\n              n_estimators=100, n_jobs=0, num_parallel_tree=1,\n              objective='multi:softprob', random_state=0, reg_alpha=0,\n              reg_lambda=1, scale_pos_weight=None, subsample=1,\n              tree_method='exact', validate_parameters=1, verbosity=None)"
     },
     "metadata": {},
     "execution_count": 30
    }
   ],
   "source": [
    "from xgboost import XGBClassifier\n",
    "model = XGBClassifier()\n",
    "model.fit(X_train,y_train)"
   ]
  },
  {
   "cell_type": "code",
   "execution_count": 31,
   "metadata": {},
   "outputs": [
    {
     "output_type": "execute_result",
     "data": {
      "text/plain": "0.9862314079206738"
     },
     "metadata": {},
     "execution_count": 31
    }
   ],
   "source": [
    "model.score(X_test,y_test)"
   ]
  },
  {
   "cell_type": "code",
   "execution_count": 44,
   "metadata": {
    "tags": []
   },
   "outputs": [
    {
     "output_type": "stream",
     "name": "stdout",
     "text": "[1]\n"
    }
   ],
   "source": [
    "X_predict=np.array([\"@@%566\"])\n",
    "X_predict=vectorizer.transform(X_predict)\n",
    "y_pred=model.predict(X_predict)\n",
    "print(y_pred)"
   ]
  },
  {
   "cell_type": "code",
   "execution_count": 46,
   "metadata": {},
   "outputs": [],
   "source": [
    "import pickle\n",
    "with open(\"model.pickle\",\"wb\") as f:\n",
    "    pickle.dump(model,f)"
   ]
  },
  {
   "cell_type": "code",
   "execution_count": null,
   "metadata": {},
   "outputs": [],
   "source": []
  }
 ],
 "metadata": {
  "kernelspec": {
   "display_name": "Python 3",
   "language": "python",
   "name": "python3"
  },
  "language_info": {
   "codemirror_mode": {
    "name": "ipython",
    "version": 3
   },
   "file_extension": ".py",
   "mimetype": "text/x-python",
   "name": "python",
   "nbconvert_exporter": "python",
   "pygments_lexer": "ipython3",
   "version": "3.8.5-final"
  }
 },
 "nbformat": 4,
 "nbformat_minor": 2
}